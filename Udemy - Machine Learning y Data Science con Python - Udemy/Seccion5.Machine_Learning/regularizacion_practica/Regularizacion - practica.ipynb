{
 "cells": [
  {
   "cell_type": "code",
   "execution_count": 1,
   "metadata": {},
   "outputs": [
    {
     "name": "stdout",
     "output_type": "stream",
     "text": [
      "2017-09-18T21:24:19+02:00\n",
      "\n",
      "CPython 3.6.1\n",
      "IPython 5.3.0\n",
      "\n",
      "compiler   : GCC 4.8.2 20140120 (Red Hat 4.8.2-15)\n",
      "system     : Linux\n",
      "release    : 4.10.0-33-generic\n",
      "machine    : x86_64\n",
      "processor  : x86_64\n",
      "CPU cores  : 8\n",
      "interpreter: 64bit\n"
     ]
    }
   ],
   "source": [
    "%load_ext watermark\n",
    "%watermark"
   ]
  },
  {
   "cell_type": "code",
   "execution_count": 2,
   "metadata": {
    "collapsed": true
   },
   "outputs": [],
   "source": [
    "import numpy as np\n",
    "import pandas as pd\n",
    "from sklearn import metrics\n",
    "from sklearn.model_selection import cross_validate"
   ]
  },
  {
   "cell_type": "code",
   "execution_count": 3,
   "metadata": {},
   "outputs": [],
   "source": [
    "vehiculos = pd.read_csv(\"data/vehiculos_procesado.csv\")\n",
    "datos_entrenamiento = vehiculos[[\"desplazamiento\",\"cilindros\",\"consumo\"]]\n",
    "\n",
    "objetivo = vehiculos[\"co2\"]"
   ]
  },
  {
   "cell_type": "code",
   "execution_count": 4,
   "metadata": {},
   "outputs": [
    {
     "data": {
      "text/html": [
       "<div>\n",
       "<style>\n",
       "    .dataframe thead tr:only-child th {\n",
       "        text-align: right;\n",
       "    }\n",
       "\n",
       "    .dataframe thead th {\n",
       "        text-align: left;\n",
       "    }\n",
       "\n",
       "    .dataframe tbody tr th {\n",
       "        vertical-align: top;\n",
       "    }\n",
       "</style>\n",
       "<table border=\"1\" class=\"dataframe\">\n",
       "  <thead>\n",
       "    <tr style=\"text-align: right;\">\n",
       "      <th></th>\n",
       "      <th>desplazamiento</th>\n",
       "      <th>cilindros</th>\n",
       "      <th>consumo</th>\n",
       "    </tr>\n",
       "  </thead>\n",
       "  <tbody>\n",
       "    <tr>\n",
       "      <th>0</th>\n",
       "      <td>2.5</td>\n",
       "      <td>4.0</td>\n",
       "      <td>17</td>\n",
       "    </tr>\n",
       "    <tr>\n",
       "      <th>1</th>\n",
       "      <td>4.2</td>\n",
       "      <td>6.0</td>\n",
       "      <td>13</td>\n",
       "    </tr>\n",
       "    <tr>\n",
       "      <th>2</th>\n",
       "      <td>2.5</td>\n",
       "      <td>4.0</td>\n",
       "      <td>16</td>\n",
       "    </tr>\n",
       "    <tr>\n",
       "      <th>3</th>\n",
       "      <td>4.2</td>\n",
       "      <td>6.0</td>\n",
       "      <td>13</td>\n",
       "    </tr>\n",
       "    <tr>\n",
       "      <th>4</th>\n",
       "      <td>3.8</td>\n",
       "      <td>6.0</td>\n",
       "      <td>16</td>\n",
       "    </tr>\n",
       "  </tbody>\n",
       "</table>\n",
       "</div>"
      ],
      "text/plain": [
       "   desplazamiento  cilindros  consumo\n",
       "0             2.5        4.0       17\n",
       "1             4.2        6.0       13\n",
       "2             2.5        4.0       16\n",
       "3             4.2        6.0       13\n",
       "4             3.8        6.0       16"
      ]
     },
     "execution_count": 4,
     "metadata": {},
     "output_type": "execute_result"
    }
   ],
   "source": [
    "datos_entrenamiento.head()"
   ]
  },
  {
   "cell_type": "code",
   "execution_count": 5,
   "metadata": {
    "collapsed": true
   },
   "outputs": [],
   "source": [
    "from sklearn.linear_model import (LinearRegression, Lasso,\n",
    "                                  Ridge, ElasticNet)\n"
   ]
  },
  {
   "cell_type": "code",
   "execution_count": 6,
   "metadata": {},
   "outputs": [
    {
     "data": {
      "text/plain": [
       "array([ 11.76787991,   1.23791071, -19.80355606])"
      ]
     },
     "execution_count": 6,
     "metadata": {},
     "output_type": "execute_result"
    }
   ],
   "source": [
    "modelo_ols = LinearRegression()\n",
    "modelo_ols.fit(datos_entrenamiento, objetivo)\n",
    "\n",
    "modelo_ols.coef_"
   ]
  },
  {
   "cell_type": "code",
   "execution_count": 7,
   "metadata": {},
   "outputs": [
    {
     "name": "stdout",
     "output_type": "stream",
     "text": [
      "32.8093466802\n",
      "23.0693791245\n"
     ]
    }
   ],
   "source": [
    "def norma_l1(coeficientes):\n",
    "    return np.abs(coeficientes).sum()\n",
    "\n",
    "def norma_l2(coeficientes):\n",
    "    return np.sqrt(np.power(coeficientes, 2).sum())\n",
    "\n",
    "print(norma_l1(modelo_ols.coef_))\n",
    "print(norma_l2(modelo_ols.coef_))"
   ]
  },
  {
   "cell_type": "markdown",
   "metadata": {},
   "source": [
    "En vez de definir esta función a mano, vamos a usar la funcion de [`numpy.linalg.norm`](https://docs.scipy.org/doc/numpy-1.13.0/reference/generated/numpy.linalg.norm.html) que es una función que calcula varios tipos de normas."
   ]
  },
  {
   "cell_type": "code",
   "execution_count": 8,
   "metadata": {},
   "outputs": [
    {
     "name": "stdout",
     "output_type": "stream",
     "text": [
      "32.8093466802\n",
      "23.0693791245\n"
     ]
    }
   ],
   "source": [
    "def norma_l1(coeficientes):\n",
    "    return np.linalg.norm(coeficientes, ord=1)\n",
    "\n",
    "def norma_l2(coeficientes):\n",
    "    return np.linalg.norm(coeficientes, ord=2)\n",
    "\n",
    "print(norma_l1(modelo_ols.coef_))\n",
    "print(norma_l2(modelo_ols.coef_))"
   ]
  },
  {
   "cell_type": "code",
   "execution_count": null,
   "metadata": {
    "collapsed": true
   },
   "outputs": [],
   "source": [
    "def norma_l1_cv(estimator, X, y):\n",
    "    return norma_l1(estimator.coef_)\n",
    "\n",
    "def norma_l2_cv(estimator, X, y):\n",
    "    return norma_l2(estimator.coef_)"
   ]
  },
  {
   "cell_type": "code",
   "execution_count": 9,
   "metadata": {
    "collapsed": true
   },
   "outputs": [],
   "source": [
    "from sklearn.preprocessing import PolynomialFeatures"
   ]
  },
  {
   "cell_type": "code",
   "execution_count": 10,
   "metadata": {
    "collapsed": true
   },
   "outputs": [],
   "source": [
    "PolynomialFeatures?"
   ]
  },
  {
   "cell_type": "code",
   "execution_count": 11,
   "metadata": {
    "collapsed": true
   },
   "outputs": [],
   "source": [
    "transformador_polinomial = PolynomialFeatures(5)"
   ]
  },
  {
   "cell_type": "code",
   "execution_count": 12,
   "metadata": {},
   "outputs": [
    {
     "data": {
      "text/plain": [
       "PolynomialFeatures(degree=5, include_bias=True, interaction_only=False)"
      ]
     },
     "execution_count": 12,
     "metadata": {},
     "output_type": "execute_result"
    }
   ],
   "source": [
    "transformador_polinomial.fit(datos_entrenamiento)"
   ]
  },
  {
   "cell_type": "code",
   "execution_count": 13,
   "metadata": {
    "collapsed": true
   },
   "outputs": [],
   "source": [
    "variables_polinomiales = transformador_polinomial.transform(\n",
    "    datos_entrenamiento)"
   ]
  },
  {
   "cell_type": "code",
   "execution_count": 14,
   "metadata": {},
   "outputs": [
    {
     "data": {
      "text/plain": [
       "(35539, 56)"
      ]
     },
     "execution_count": 14,
     "metadata": {},
     "output_type": "execute_result"
    }
   ],
   "source": [
    "variables_polinomiales.shape"
   ]
  },
  {
   "cell_type": "code",
   "execution_count": 15,
   "metadata": {},
   "outputs": [
    {
     "data": {
      "text/plain": [
       "desplazamiento     2.5\n",
       "cilindros          4.0\n",
       "consumo           17.0\n",
       "Name: 0, dtype: float64"
      ]
     },
     "execution_count": 15,
     "metadata": {},
     "output_type": "execute_result"
    }
   ],
   "source": [
    "datos_entrenamiento.loc[0]"
   ]
  },
  {
   "cell_type": "code",
   "execution_count": 16,
   "metadata": {
    "scrolled": true
   },
   "outputs": [
    {
     "data": {
      "text/plain": [
       "array([  1.00000000e+00,   2.50000000e+00,   4.00000000e+00,\n",
       "         1.70000000e+01,   6.25000000e+00,   1.00000000e+01,\n",
       "         4.25000000e+01,   1.60000000e+01,   6.80000000e+01,\n",
       "         2.89000000e+02,   1.56250000e+01,   2.50000000e+01,\n",
       "         1.06250000e+02,   4.00000000e+01,   1.70000000e+02,\n",
       "         7.22500000e+02,   6.40000000e+01,   2.72000000e+02,\n",
       "         1.15600000e+03,   4.91300000e+03,   3.90625000e+01,\n",
       "         6.25000000e+01,   2.65625000e+02,   1.00000000e+02,\n",
       "         4.25000000e+02,   1.80625000e+03,   1.60000000e+02,\n",
       "         6.80000000e+02,   2.89000000e+03,   1.22825000e+04,\n",
       "         2.56000000e+02,   1.08800000e+03,   4.62400000e+03,\n",
       "         1.96520000e+04,   8.35210000e+04,   9.76562500e+01,\n",
       "         1.56250000e+02,   6.64062500e+02,   2.50000000e+02,\n",
       "         1.06250000e+03,   4.51562500e+03,   4.00000000e+02,\n",
       "         1.70000000e+03,   7.22500000e+03,   3.07062500e+04,\n",
       "         6.40000000e+02,   2.72000000e+03,   1.15600000e+04,\n",
       "         4.91300000e+04,   2.08802500e+05,   1.02400000e+03,\n",
       "         4.35200000e+03,   1.84960000e+04,   7.86080000e+04,\n",
       "         3.34084000e+05,   1.41985700e+06])"
      ]
     },
     "execution_count": 16,
     "metadata": {},
     "output_type": "execute_result"
    }
   ],
   "source": [
    "variables_polinomiales[0]"
   ]
  },
  {
   "cell_type": "code",
   "execution_count": 17,
   "metadata": {},
   "outputs": [],
   "source": [
    "variables_polinomiales = PolynomialFeatures(5).fit_transform(\n",
    "    datos_entrenamiento)"
   ]
  },
  {
   "cell_type": "code",
   "execution_count": 18,
   "metadata": {},
   "outputs": [
    {
     "data": {
      "text/plain": [
       "(35539, 56)"
      ]
     },
     "execution_count": 18,
     "metadata": {},
     "output_type": "execute_result"
    }
   ],
   "source": [
    "variables_polinomiales.shape"
   ]
  },
  {
   "cell_type": "markdown",
   "metadata": {},
   "source": [
    "Ahora vamos a evaluar los distintos tipos de regularizacion"
   ]
  },
  {
   "cell_type": "markdown",
   "metadata": {},
   "source": [
    "**Modelo OLS con variables polinomiales**"
   ]
  },
  {
   "cell_type": "code",
   "execution_count": 19,
   "metadata": {
    "collapsed": true
   },
   "outputs": [],
   "source": [
    "RESULTADOS = {}"
   ]
  },
  {
   "cell_type": "code",
   "execution_count": 20,
   "metadata": {
    "scrolled": true
   },
   "outputs": [
    {
     "name": "stdout",
     "output_type": "stream",
     "text": [
      "[ -1.33584245e-04  -2.16202014e+03  -4.74743022e+02  -9.33379437e+02\n",
      "   2.06179369e+03  -1.98652141e+03   4.07183963e+02   6.98188920e+02\n",
      "  -8.60206821e+00   5.68565588e+01  -5.04043555e+02   5.97572364e+02\n",
      "  -2.39915727e+02  -1.93155159e+02   2.06936510e+02  -2.46367000e+01\n",
      "  -7.53120030e+00  -6.16587971e+01   2.77167163e+00  -1.72213966e+00\n",
      "   3.22404684e+01  -2.32860787e+01   3.67724866e+01  -1.28564530e+01\n",
      "  -4.24157144e+01   9.08423003e+00   1.17166991e+01   1.52755499e+01\n",
      "  -7.40121866e+00   6.04111961e-01  -9.27527797e-01  -8.19881992e-01\n",
      "   1.96304324e+00  -8.55528666e-02   2.44388052e-02  -2.44193545e+00\n",
      "   6.17851513e+00  -1.41371913e+00  -7.50158521e+00   1.59153882e+00\n",
      "  -6.92569799e-01   5.18941968e+00  -3.95368961e-01   8.24178211e-01\n",
      "  -1.15475754e-01  -1.85224537e+00  -2.10933016e-02  -3.68950001e-01\n",
      "   9.99115995e-02  -5.66794749e-03   2.41619836e-01  -2.05795972e-02\n",
      "   5.80537282e-02  -2.77634650e-02   1.11091111e-03  -1.26148038e-04]\n"
     ]
    }
   ],
   "source": [
    "modelo_ols = LinearRegression()\n",
    "modelo_ols.fit(variables_polinomiales, objetivo)\n",
    "print(modelo_ols.coef_)\n",
    "\n",
    "RESULTADOS[\"ols\"] = {\n",
    "    \"norma_l1\": norma_l1(modelo_ols.coef_),\n",
    "    \"norma_l2\": norma_l2(modelo_ols.coef_),\n",
    "}"
   ]
  },
  {
   "cell_type": "markdown",
   "metadata": {},
   "source": [
    "**Modelo Regularización L1 con variables polinomiales**"
   ]
  },
  {
   "cell_type": "code",
   "execution_count": 21,
   "metadata": {
    "collapsed": true
   },
   "outputs": [],
   "source": [
    "Lasso?"
   ]
  },
  {
   "cell_type": "code",
   "execution_count": 22,
   "metadata": {
    "scrolled": true
   },
   "outputs": [
    {
     "name": "stdout",
     "output_type": "stream",
     "text": [
      "[  0.00000000e+00   0.00000000e+00   0.00000000e+00  -3.30237023e+01\n",
      "   5.12409278e+00   1.44708364e+00  -1.47969971e+00   6.52491862e-01\n",
      "  -5.04276126e-01   5.26431228e-02  -1.48062992e-01  -0.00000000e+00\n",
      "  -1.32137016e-01   1.02289253e-01  -9.17626300e-02  -1.30192905e-02\n",
      "   6.15573125e-02  -3.01413839e-02   2.31053922e-02   5.17315962e-03\n",
      "   1.91792946e-02  -1.51220456e-03  -1.88077866e-03  -1.09782669e-03\n",
      "  -6.50140180e-03  -2.91026927e-04   1.73571147e-03  -3.33999083e-03\n",
      "  -1.64104930e-03   1.59784747e-03   1.31929178e-03   1.69629743e-04\n",
      "  -1.64562586e-03   2.03369130e-04   1.99415033e-05  -2.81072727e-03\n",
      "   7.11467485e-04   2.46531750e-03  -2.20515928e-03   2.38235311e-04\n",
      "   6.38712931e-04  -1.09015174e-03  -3.89575283e-04  -8.09552788e-05\n",
      "   2.70933679e-04  -1.56154368e-04  -1.88340282e-04  -2.27097112e-04\n",
      "   3.81560605e-05   2.29005451e-06  -5.56615246e-05   1.44114807e-04\n",
      "   4.13806087e-06   5.51970343e-05   7.62940670e-07  -1.14293565e-06]\n"
     ]
    }
   ],
   "source": [
    "modelo_l1 = Lasso(alpha=1.0, tol=0.01, max_iter=5000)\n",
    "modelo_l1.fit(variables_polinomiales, objetivo)\n",
    "print(modelo_l1.coef_)\n",
    "\n",
    "RESULTADOS[\"regularizacion_l1\"] = {\n",
    "    \"norma_l1\": norma_l1(modelo_l1.coef_),\n",
    "    \"norma_l2\": norma_l2(modelo_l1.coef_),\n",
    "}"
   ]
  },
  {
   "cell_type": "markdown",
   "metadata": {},
   "source": [
    "**Modelo Regularización L2 (Ridge)  con variables polinomiales**"
   ]
  },
  {
   "cell_type": "code",
   "execution_count": 23,
   "metadata": {
    "scrolled": true
   },
   "outputs": [
    {
     "name": "stdout",
     "output_type": "stream",
     "text": [
      "[  0.00000000e+00   1.51700247e+01   1.42698882e+00  -9.87023278e+00\n",
      "   4.84917206e+01   3.40056616e+01   4.08618469e+01   1.87320061e+01\n",
      "  -3.38485609e+01  -4.32030584e+00  -2.38650499e+01   2.49478095e+01\n",
      "  -1.68754256e+01  -1.28015201e+01  -6.76127446e+00  -2.53957180e+00\n",
      "  -4.79471152e+00   6.20678299e+00   2.06740033e+00   2.74905008e-01\n",
      "   1.53996044e+01  -3.67045279e+01   3.58931719e+00   3.45190179e+01\n",
      "  -4.38968686e+00   9.62645876e-01  -1.53177951e+01   4.03072220e+00\n",
      "  -3.81915655e-02   4.61122793e-02   3.15169731e+00  -1.12388091e+00\n",
      "  -2.48505884e-01  -3.05622232e-02  -7.73542279e-03  -2.33675034e+00\n",
      "   6.80498512e+00  -8.69751682e-01  -7.95084511e+00   2.20023690e+00\n",
      "  -1.37698389e-01   4.60217944e+00  -2.17511174e+00   2.25464545e-01\n",
      "  -1.86520202e-02  -1.28786598e+00   9.40206797e-01  -1.93273412e-01\n",
      "   1.34228203e-02  -4.68453867e-04   1.24956763e-01  -1.58111975e-01\n",
      "   5.90668933e-02  -2.26321629e-03   2.49826293e-04   8.13220717e-05]\n"
     ]
    }
   ],
   "source": [
    "modelo_l2 = Ridge(alpha=1.0, tol=0.01, max_iter=5000)\n",
    "modelo_l2.fit(variables_polinomiales, objetivo)\n",
    "\n",
    "print(modelo_l2.coef_)\n",
    "RESULTADOS[\"regularizacion_l2\"] = {\n",
    "    \"norma_l1\": norma_l1(modelo_l2.coef_),\n",
    "    \"norma_l2\": norma_l2(modelo_l2.coef_),\n",
    "}"
   ]
  },
  {
   "cell_type": "markdown",
   "metadata": {},
   "source": [
    "**Regularización Elasticnet con variables polinomiales**"
   ]
  },
  {
   "cell_type": "code",
   "execution_count": 24,
   "metadata": {
    "collapsed": true
   },
   "outputs": [],
   "source": [
    "ElasticNet?"
   ]
  },
  {
   "cell_type": "code",
   "execution_count": 25,
   "metadata": {
    "scrolled": true
   },
   "outputs": [
    {
     "name": "stdout",
     "output_type": "stream",
     "text": [
      "[  0.00000000e+00   0.00000000e+00   0.00000000e+00  -1.33310440e+00\n",
      "   4.89645007e+00   6.09439149e+00  -1.31816563e+00   2.37723778e+00\n",
      "  -3.10050434e+00  -6.41934303e-01  -7.84374220e-01  -9.59081564e-02\n",
      "  -7.18954629e-02   7.19478059e-03  -4.57252233e-02  -6.37787774e-02\n",
      "   1.22426563e-02   3.46550752e-02   4.26955780e-02   2.66673958e-03\n",
      "   1.39812144e-02  -8.09891082e-03   8.76409316e-03  -1.69690074e-02\n",
      "  -2.05177215e-03   1.54020194e-03  -6.29758134e-03  -2.92855315e-03\n",
      "  -6.86058449e-04   1.42133650e-03  -9.92879254e-04   1.28704557e-04\n",
      "   5.03220762e-04   6.61024458e-04   5.80200778e-05   3.41020839e-03\n",
      "   2.27563082e-03   2.71125911e-03  -1.90350591e-03  -7.82250851e-05\n",
      "   6.56665428e-04  -7.34759017e-04  -9.12167373e-04  -2.43120629e-04\n",
      "   1.60164558e-04   3.89147755e-04  -5.45731423e-04  -3.49391006e-04\n",
      "   3.45240438e-05   3.46406797e-05   2.59823852e-04  -6.35175029e-05\n",
      "  -9.14762151e-05   5.08095098e-05   1.14384625e-05   7.36969809e-07]\n"
     ]
    }
   ],
   "source": [
    "modelo_elasticnet = ElasticNet(l1_ratio=0.5, tol=0.01,max_iter=5000)\n",
    "modelo_elasticnet.fit(variables_polinomiales, objetivo)\n",
    "print(modelo_elasticnet.coef_)\n",
    "\n",
    "RESULTADOS[\"regularizacion_elasticnet\"] = {\n",
    "    \"norma_l1\": norma_l1(modelo_elasticnet.coef_),\n",
    "    \"norma_l2\": norma_l2(modelo_elasticnet.coef_),\n",
    "}"
   ]
  },
  {
   "cell_type": "code",
   "execution_count": 26,
   "metadata": {},
   "outputs": [],
   "source": [
    "pd.set_option(\"display.float_format\", lambda x: str(round(x,6)))"
   ]
  },
  {
   "cell_type": "code",
   "execution_count": 27,
   "metadata": {},
   "outputs": [
    {
     "data": {
      "text/html": [
       "<div>\n",
       "<style>\n",
       "    .dataframe thead tr:only-child th {\n",
       "        text-align: right;\n",
       "    }\n",
       "\n",
       "    .dataframe thead th {\n",
       "        text-align: left;\n",
       "    }\n",
       "\n",
       "    .dataframe tbody tr th {\n",
       "        vertical-align: top;\n",
       "    }\n",
       "</style>\n",
       "<table border=\"1\" class=\"dataframe\">\n",
       "  <thead>\n",
       "    <tr style=\"text-align: right;\">\n",
       "      <th></th>\n",
       "      <th>norma_l1</th>\n",
       "      <th>norma_l2</th>\n",
       "      <th>pct_reduccion_l1</th>\n",
       "      <th>pct_reduccion_l2</th>\n",
       "    </tr>\n",
       "  </thead>\n",
       "  <tbody>\n",
       "    <tr>\n",
       "      <th>ols</th>\n",
       "      <td>10853.748045</td>\n",
       "      <td>3922.194755</td>\n",
       "      <td>0.0</td>\n",
       "      <td>0.0</td>\n",
       "    </tr>\n",
       "    <tr>\n",
       "      <th>regularizacion_elasticnet</th>\n",
       "      <td>21.002924</td>\n",
       "      <td>8.997096</td>\n",
       "      <td>0.998065</td>\n",
       "      <td>0.997706</td>\n",
       "    </tr>\n",
       "    <tr>\n",
       "      <th>regularizacion_l1</th>\n",
       "      <td>42.945147</td>\n",
       "      <td>33.494056</td>\n",
       "      <td>0.996043</td>\n",
       "      <td>0.99146</td>\n",
       "    </tr>\n",
       "    <tr>\n",
       "      <th>regularizacion_l2</th>\n",
       "      <td>457.523445</td>\n",
       "      <td>109.550681</td>\n",
       "      <td>0.957847</td>\n",
       "      <td>0.972069</td>\n",
       "    </tr>\n",
       "  </tbody>\n",
       "</table>\n",
       "</div>"
      ],
      "text/plain": [
       "                              norma_l1    norma_l2  pct_reduccion_l1  \\\n",
       "ols                       10853.748045 3922.194755               0.0   \n",
       "regularizacion_elasticnet    21.002924    8.997096          0.998065   \n",
       "regularizacion_l1            42.945147   33.494056          0.996043   \n",
       "regularizacion_l2           457.523445  109.550681          0.957847   \n",
       "\n",
       "                           pct_reduccion_l2  \n",
       "ols                                     0.0  \n",
       "regularizacion_elasticnet          0.997706  \n",
       "regularizacion_l1                   0.99146  \n",
       "regularizacion_l2                  0.972069  "
      ]
     },
     "execution_count": 27,
     "metadata": {},
     "output_type": "execute_result"
    }
   ],
   "source": [
    "resultados_df = pd.DataFrame(RESULTADOS).T\n",
    "l1_ols = resultados_df.loc[\"ols\", \"norma_l1\"]\n",
    "l2_ols = resultados_df.loc[\"ols\", \"norma_l2\"]\n",
    "\n",
    "resultados_df[\"pct_reduccion_l1\"] = 1-resultados_df.norma_l1 / l1_ols\n",
    "resultados_df[\"pct_reduccion_l2\"] = 1-resultados_df.norma_l2 / l2_ols\n",
    "\n",
    "resultados_df"
   ]
  },
  {
   "cell_type": "code",
   "execution_count": null,
   "metadata": {
    "collapsed": true
   },
   "outputs": [],
   "source": []
  },
  {
   "cell_type": "code",
   "execution_count": null,
   "metadata": {
    "collapsed": true
   },
   "outputs": [],
   "source": []
  },
  {
   "cell_type": "code",
   "execution_count": null,
   "metadata": {
    "collapsed": true
   },
   "outputs": [],
   "source": []
  },
  {
   "cell_type": "code",
   "execution_count": null,
   "metadata": {
    "collapsed": true
   },
   "outputs": [],
   "source": []
  },
  {
   "cell_type": "code",
   "execution_count": null,
   "metadata": {
    "collapsed": true
   },
   "outputs": [],
   "source": []
  },
  {
   "cell_type": "code",
   "execution_count": null,
   "metadata": {
    "collapsed": true
   },
   "outputs": [],
   "source": []
  },
  {
   "cell_type": "code",
   "execution_count": null,
   "metadata": {
    "collapsed": true
   },
   "outputs": [],
   "source": []
  },
  {
   "cell_type": "code",
   "execution_count": null,
   "metadata": {
    "collapsed": true
   },
   "outputs": [],
   "source": [
    "from sklearn import datasets\n",
    "\n",
    "\n",
    "boston = datasets.load_boston()\n",
    "\n",
    "datos_entrenamiento = boston[\"data\"]\n",
    "objetivo = boston[\"target\"]"
   ]
  },
  {
   "cell_type": "markdown",
   "metadata": {},
   "source": [
    "### Benchmarks con validación cruzada "
   ]
  },
  {
   "cell_type": "code",
   "execution_count": null,
   "metadata": {
    "collapsed": true
   },
   "outputs": [],
   "source": [
    "def rmse(objetivo, estimaciones):\n",
    "    return np.sqrt(metrics.mean_squared_error(objetivo, estimaciones)\n",
    "                 )\n",
    "\n",
    "def rmse_cv(estimator, X, y):\n",
    "    y_pred = estimator.predict(X)\n",
    "    return rmse(y, y_pred)\n",
    "\n",
    "def evaluar_modelo(modelo, X, y):\n",
    "    scoring = {\n",
    "        \"mae\": \"neg_mean_absolute_error\",\n",
    "        \"rmse\": rmse_cv,\n",
    "        \"l1_norm\":norma_l1_cv,\n",
    "        \"l2_norm\":norma_l2_cv,\n",
    "    }\n",
    "    scores = cross_validate(modelo, X, y,\n",
    "                            scoring=scoring,\n",
    "                            cv=100, \n",
    "                            return_train_score=False,\n",
    "                            n_jobs=-1)\n",
    "    return pd.DataFrame(scores).mean()\n",
    "\n",
    "RESULTADOS = {}"
   ]
  },
  {
   "cell_type": "code",
   "execution_count": null,
   "metadata": {},
   "outputs": [],
   "source": [
    "modelo_ols = LinearRegression()\n",
    "RESULTADOS[\"ols_cuadratico\"] = evaluar_modelo(\n",
    "                        modelo_ols,\n",
    "                        variables_polinomiales,\n",
    "                        objetivo\n",
    ")"
   ]
  },
  {
   "cell_type": "code",
   "execution_count": null,
   "metadata": {
    "scrolled": true
   },
   "outputs": [],
   "source": [
    "modelo_l1 = Lasso(alpha=1.0, tol=0.015)\n",
    "\n",
    "RESULTADOS[\"l1_cuadratico\"] = evaluar_modelo(\n",
    "                        modelo_l1,\n",
    "                        variables_polinomiales,\n",
    "                        objetivo\n",
    ")"
   ]
  },
  {
   "cell_type": "code",
   "execution_count": null,
   "metadata": {},
   "outputs": [],
   "source": [
    "modelo_l2 = Ridge(alpha=1.0, tol=0.015)\n",
    "\n",
    "RESULTADOS[\"l2_cuadratico\"] = evaluar_modelo(\n",
    "                        modelo_l2,\n",
    "                        variables_polinomiales,\n",
    "                        objetivo\n",
    ")"
   ]
  },
  {
   "cell_type": "code",
   "execution_count": null,
   "metadata": {},
   "outputs": [],
   "source": [
    "modelo_elasticnet = ElasticNet(l1_ratio=0.5)\n",
    "\n",
    "RESULTADOS[\"elasticnet_cuadratico\"] = evaluar_modelo(\n",
    "                        modelo_elasticnet,\n",
    "                        variables_polinomiales,\n",
    "                        objetivo\n",
    ")"
   ]
  },
  {
   "cell_type": "code",
   "execution_count": null,
   "metadata": {},
   "outputs": [],
   "source": [
    "pd.DataFrame(RESULTADOS)"
   ]
  },
  {
   "cell_type": "code",
   "execution_count": null,
   "metadata": {
    "collapsed": true
   },
   "outputs": [],
   "source": []
  }
 ],
 "metadata": {
  "kernelspec": {
   "display_name": "Python 3",
   "language": "python",
   "name": "python3"
  },
  "language_info": {
   "codemirror_mode": {
    "name": "ipython",
    "version": 3
   },
   "file_extension": ".py",
   "mimetype": "text/x-python",
   "name": "python",
   "nbconvert_exporter": "python",
   "pygments_lexer": "ipython3",
   "version": "3.6.1"
  }
 },
 "nbformat": 4,
 "nbformat_minor": 2
}
