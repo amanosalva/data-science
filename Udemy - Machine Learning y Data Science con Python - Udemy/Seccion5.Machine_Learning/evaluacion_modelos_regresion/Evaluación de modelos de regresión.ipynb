{
 "cells": [
  {
   "cell_type": "code",
   "execution_count": 2,
   "metadata": {},
   "outputs": [
    {
     "name": "stdout",
     "output_type": "stream",
     "text": [
      "The watermark extension is already loaded. To reload it, use:\n",
      "  %reload_ext watermark\n",
      "2017-09-16T18:40:39+02:00\n",
      "\n",
      "CPython 3.6.1\n",
      "IPython 5.3.0\n",
      "\n",
      "compiler   : GCC 4.8.2 20140120 (Red Hat 4.8.2-15)\n",
      "system     : Linux\n",
      "release    : 4.10.0-33-generic\n",
      "machine    : x86_64\n",
      "processor  : x86_64\n",
      "CPU cores  : 8\n",
      "interpreter: 64bit\n"
     ]
    }
   ],
   "source": [
    "%load_ext watermark\n",
    "%watermark"
   ]
  },
  {
   "cell_type": "code",
   "execution_count": 3,
   "metadata": {
    "collapsed": true
   },
   "outputs": [],
   "source": [
    "from sklearn import datasets"
   ]
  },
  {
   "cell_type": "code",
   "execution_count": 4,
   "metadata": {
    "collapsed": true
   },
   "outputs": [],
   "source": [
    "boston = datasets.load_boston()"
   ]
  },
  {
   "cell_type": "code",
   "execution_count": 5,
   "metadata": {
    "collapsed": true
   },
   "outputs": [],
   "source": [
    "from sklearn.linear_model import LinearRegression"
   ]
  },
  {
   "cell_type": "code",
   "execution_count": 6,
   "metadata": {
    "collapsed": true
   },
   "outputs": [],
   "source": [
    "model = LinearRegression()"
   ]
  },
  {
   "cell_type": "code",
   "execution_count": 7,
   "metadata": {},
   "outputs": [
    {
     "data": {
      "text/plain": [
       "LinearRegression(copy_X=True, fit_intercept=True, n_jobs=1, normalize=False)"
      ]
     },
     "execution_count": 7,
     "metadata": {},
     "output_type": "execute_result"
    }
   ],
   "source": [
    "model.fit(X=boston[\"data\"], y=boston[\"target\"])"
   ]
  },
  {
   "cell_type": "code",
   "execution_count": 8,
   "metadata": {
    "collapsed": true
   },
   "outputs": [],
   "source": [
    "y_objetivo = boston[\"target\"]\n",
    "y_pred = model.predict(boston[\"data\"])"
   ]
  },
  {
   "cell_type": "code",
   "execution_count": 9,
   "metadata": {
    "collapsed": true
   },
   "outputs": [],
   "source": [
    "from sklearn import metrics"
   ]
  },
  {
   "cell_type": "markdown",
   "metadata": {},
   "source": [
    "**Error Absoluto Medio**\n",
    "\n",
    "El Error Absoluto Medio (Mean Absolute Error o MAE) se define como:\n",
    "\n",
    "$$\\frac{1}{n}\\sum_{i=1}^{n}|y_i -\\hat{y}_i|$$\n",
    "\n",
    "Es decir, la media de las diferencias entre la varible objetivo y las predicciones sin el signo.\n",
    "\n",
    "MAE es una métrica robusta, en cuanto a que no varia mucho si hay valores extremos en los datos. El error se puede interpretar como unidades de la variable objetivo (por ejemplo, si la variable objetivo es en dolares MAE estará también en dólares)."
   ]
  },
  {
   "cell_type": "code",
   "execution_count": 10,
   "metadata": {
    "collapsed": true
   },
   "outputs": [],
   "source": [
    "metrics.mean_absolute_error?"
   ]
  },
  {
   "cell_type": "code",
   "execution_count": 11,
   "metadata": {},
   "outputs": [
    {
     "data": {
      "text/plain": [
       "3.2729446379969378"
      ]
     },
     "execution_count": 11,
     "metadata": {},
     "output_type": "execute_result"
    }
   ],
   "source": [
    "metrics.mean_absolute_error(y_objetivo, y_pred)"
   ]
  },
  {
   "cell_type": "markdown",
   "metadata": {},
   "source": [
    "**Error Cuadrático Medio**\n",
    "\n",
    "El Error cuadrático Medio (Mean Squared Error o MSE)\n",
    "\n",
    "$$\\frac{1}{n}\\sum_{i=1}^{n}(y_i -\\hat{y}_i)^2$$\n",
    "\n",
    "Dado que el MSE se define en unidades al cuadrado, lo cual no es intuitivo (¿dolares cuadrados?), generalmente se usa su raíz.\n",
    "\n",
    "**Raíz del Error Cuadrático Medio**\n",
    "\n",
    "La Raíz del Error Cuadrático Medio (Root Mean Squared Error o RMSE) se diferencia del MSE en que el resultado se puede medir en las mismas unidades que la variable objetivo\n",
    "\n",
    "$$\\sqrt{\\frac{1}{n}\\sum_{i=1}^{n}(y_i -\\hat{y}_i)^2}$$\n",
    "\n",
    "\n",
    "\n",
    "Sin embargo, tiene un problema y es que da más importancia a los errores grandes. Por ejemplo en el Boston Housing Dataset, si tenemos dos observaciones y sus predicciones:\n",
    "\n",
    "```\n",
    "observacion1: MEDV: 10  MEDV_pred: 15    RMSE: (10-15)²=25\n",
    "observacion2: MEDV: 1000 MEDV_pred: 1010 RMSE: (1000-1010)²=100 \n",
    "```\n",
    "\n",
    "El usar RMSE como medida de error significa que se le dará mas peso al error de la observacion2 que al de la observación1, pese a que un error de 5,000 dólares en una zona donde el valor medio es 10,000$ es un error mucho mas grave que un error de 10,000 dólares  en una zona donde el valor medio de las casas es de 1 millon de dólares.\n",
    "\n",
    "RMSE es más sensible que MAE a variaciones en los errores de predicción, aquí tenemos un ejemplo donde se ve esto.\n",
    "\n",
    "![mae_vs_mse](https://cdn-images-1.medium.com/max/1371/1*YTxb8K2XZIisC944v6rERw.png)\n",
    "\n",
    "En este ejemplo se ve como para los tres casos, el MAE no varía, mientras que en función de la distribución de errores el RMSE puede ser igual al MAE (todos los errores iguales) o mucho mayor (muchos errores nulos con un error muy grande)\n",
    "\n",
    "Para aquellos casos donde lo que queramos es esto (evitar errores grandes) y cuando la distribución de la variable objetivo este bién distribuida se puede usar RMSE en vez de MAE."
   ]
  },
  {
   "cell_type": "code",
   "execution_count": 12,
   "metadata": {},
   "outputs": [
    {
     "data": {
      "text/plain": [
       "4.6795063006355164"
      ]
     },
     "execution_count": 12,
     "metadata": {},
     "output_type": "execute_result"
    }
   ],
   "source": [
    "import numpy as np\n",
    "\n",
    "np.sqrt(metrics.mean_squared_error(y_objetivo, y_pred))"
   ]
  },
  {
   "cell_type": "markdown",
   "metadata": {},
   "source": [
    "**Coeficiente de determinación**\n",
    "\n",
    "El coeficiente de determinación (R2 o R-squared) mide la porción de la varianza de la variable objetivo que se puede explicar por el modelo.\n",
    "\n",
    "R2 tiene un valor máximo de 1 (cuando el modelo explica toda la varianza) , aunque puede tener valores negativos.\n",
    "\n",
    "Hay [varias formas de definir R2](https://en.wikipedia.org/wiki/Coefficient_of_determination) , pero una de las más sencillas es simplemente la correlacion (definida como la [Correlación de Pearson](https://es.wikipedia.org/wiki/Coeficiente_de_correlaci%C3%B3n_de_Pearson)) entre la variable objetivo y las predicciones , elevada al cuadrado.\n",
    "\n",
    "![pmcc](https://wikimedia.org/api/rest_v1/media/math/render/svg/01d103c10e6d4f477953a9b48c69d19a954d978a)\n",
    "\n",
    "Un problema importante que tiene R2 es que no nos indica si el modelo explica la varianza debido a que está sobreajustado (overfitted). Por eso una medida mejor es el Coeficiente de Determinacion ajustado (Adjusted R-squared), que tiene en consideracion la complejidad del modelo.\n",
    "\n",
    "$$1 - \\frac{(1 - R^2)(n-1)}{(n-k-1)}$$\n",
    "\n",
    "donde `n` es el número de observaciones y `k` es el numero de coeficientes del modelo (sin contar el término independiente)"
   ]
  },
  {
   "cell_type": "code",
   "execution_count": 13,
   "metadata": {},
   "outputs": [
    {
     "data": {
      "text/plain": [
       "0.74060774286494269"
      ]
     },
     "execution_count": 13,
     "metadata": {},
     "output_type": "execute_result"
    }
   ],
   "source": [
    "modelo_r2 = metrics.r2_score(y_objetivo, y_pred)\n",
    "modelo_r2"
   ]
  },
  {
   "cell_type": "code",
   "execution_count": 14,
   "metadata": {},
   "outputs": [
    {
     "data": {
      "text/plain": [
       "array([[ 1.        ,  0.74060774],\n",
       "       [ 0.74060774,  1.        ]])"
      ]
     },
     "execution_count": 14,
     "metadata": {},
     "output_type": "execute_result"
    }
   ],
   "source": [
    "import numpy\n",
    "np.corrcoef(y_objetivo, y_pred)**2"
   ]
  },
  {
   "cell_type": "code",
   "execution_count": 15,
   "metadata": {},
   "outputs": [
    {
     "data": {
      "text/plain": [
       "13"
      ]
     },
     "execution_count": 15,
     "metadata": {},
     "output_type": "execute_result"
    }
   ],
   "source": [
    "len(model.coef_)"
   ]
  },
  {
   "cell_type": "code",
   "execution_count": 16,
   "metadata": {},
   "outputs": [
    {
     "data": {
      "text/plain": [
       "0.73375388241218709"
      ]
     },
     "execution_count": 16,
     "metadata": {},
     "output_type": "execute_result"
    }
   ],
   "source": [
    "modelo_r2_ajustado = 1 - (1-modelo_r2)*(len(boston[\"target\"])-1)/  \\\n",
    "                         (len(boston[\"target\"])-boston[\"data\"].shape[1]-1)\n",
    "modelo_r2_ajustado"
   ]
  },
  {
   "cell_type": "code",
   "execution_count": null,
   "metadata": {
    "collapsed": true
   },
   "outputs": [],
   "source": []
  }
 ],
 "metadata": {
  "kernelspec": {
   "display_name": "Python 3",
   "language": "python",
   "name": "python3"
  },
  "language_info": {
   "codemirror_mode": {
    "name": "ipython",
    "version": 3
   },
   "file_extension": ".py",
   "mimetype": "text/x-python",
   "name": "python",
   "nbconvert_exporter": "python",
   "pygments_lexer": "ipython3",
   "version": "3.6.1"
  }
 },
 "nbformat": 4,
 "nbformat_minor": 2
}
