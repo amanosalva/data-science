{
 "cells": [
  {
   "cell_type": "code",
   "execution_count": 4,
   "metadata": {},
   "outputs": [
    {
     "name": "stdout",
     "output_type": "stream",
     "text": [
      "2017-10-16T15:56:33+02:00\n",
      "\n",
      "CPython 3.6.1\n",
      "IPython 5.3.0\n",
      "\n",
      "compiler   : GCC 4.8.2 20140120 (Red Hat 4.8.2-15)\n",
      "system     : Linux\n",
      "release    : 4.10.0-37-generic\n",
      "machine    : x86_64\n",
      "processor  : x86_64\n",
      "CPU cores  : 8\n",
      "interpreter: 64bit\n"
     ]
    }
   ],
   "source": [
    "%load_ext watermark\n",
    "%watermark"
   ]
  },
  {
   "cell_type": "code",
   "execution_count": 42,
   "metadata": {
    "collapsed": true
   },
   "outputs": [],
   "source": [
    "from IPython.display import Image\n",
    "import pandas as pd\n",
    "import numpy as np"
   ]
  },
  {
   "cell_type": "code",
   "execution_count": 43,
   "metadata": {
    "collapsed": true
   },
   "outputs": [],
   "source": [
    "datos = pd.read_csv(\"data/datos_procesamiento.csv\")"
   ]
  },
  {
   "cell_type": "code",
   "execution_count": 44,
   "metadata": {},
   "outputs": [
    {
     "data": {
      "text/html": [
       "<div>\n",
       "<style>\n",
       "    .dataframe thead tr:only-child th {\n",
       "        text-align: right;\n",
       "    }\n",
       "\n",
       "    .dataframe thead th {\n",
       "        text-align: left;\n",
       "    }\n",
       "\n",
       "    .dataframe tbody tr th {\n",
       "        vertical-align: top;\n",
       "    }\n",
       "</style>\n",
       "<table border=\"1\" class=\"dataframe\">\n",
       "  <thead>\n",
       "    <tr style=\"text-align: right;\">\n",
       "      <th></th>\n",
       "      <th>col_inexistente1</th>\n",
       "      <th>col2</th>\n",
       "      <th>col3</th>\n",
       "      <th>col_outliers</th>\n",
       "      <th>col_outliers2</th>\n",
       "      <th>col_categorica</th>\n",
       "      <th>col_ordinal</th>\n",
       "      <th>col_texto</th>\n",
       "      <th>objetivo</th>\n",
       "    </tr>\n",
       "  </thead>\n",
       "  <tbody>\n",
       "    <tr>\n",
       "      <th>0</th>\n",
       "      <td>59.0</td>\n",
       "      <td>52.0</td>\n",
       "      <td>2.232832</td>\n",
       "      <td>-50</td>\n",
       "      <td>0.771666</td>\n",
       "      <td>ratón</td>\n",
       "      <td>muy bien</td>\n",
       "      <td>Tenía en su casa una ama que pasaba de los cua...</td>\n",
       "      <td>1</td>\n",
       "    </tr>\n",
       "    <tr>\n",
       "      <th>1</th>\n",
       "      <td>31.0</td>\n",
       "      <td>74.0</td>\n",
       "      <td>0.906147</td>\n",
       "      <td>-5</td>\n",
       "      <td>1.068558</td>\n",
       "      <td>elefante</td>\n",
       "      <td>regular</td>\n",
       "      <td>El resto della concluían sayo de velarte, calz...</td>\n",
       "      <td>0</td>\n",
       "    </tr>\n",
       "    <tr>\n",
       "      <th>2</th>\n",
       "      <td>81.0</td>\n",
       "      <td>28.0</td>\n",
       "      <td>0.626750</td>\n",
       "      <td>-32</td>\n",
       "      <td>0.846396</td>\n",
       "      <td>ratón</td>\n",
       "      <td>muy mal</td>\n",
       "      <td>El resto della concluían sayo de velarte, calz...</td>\n",
       "      <td>0</td>\n",
       "    </tr>\n",
       "    <tr>\n",
       "      <th>3</th>\n",
       "      <td>34.0</td>\n",
       "      <td>16.0</td>\n",
       "      <td>0.816738</td>\n",
       "      <td>-84</td>\n",
       "      <td>0.637381</td>\n",
       "      <td>gato</td>\n",
       "      <td>mal</td>\n",
       "      <td>Una olla de algo más vaca que carnero, salpicó...</td>\n",
       "      <td>0</td>\n",
       "    </tr>\n",
       "    <tr>\n",
       "      <th>4</th>\n",
       "      <td>32.0</td>\n",
       "      <td>28.0</td>\n",
       "      <td>0.571131</td>\n",
       "      <td>65</td>\n",
       "      <td>4.540614</td>\n",
       "      <td>gato</td>\n",
       "      <td>bien</td>\n",
       "      <td>Tenía en su casa una ama que pasaba de los cua...</td>\n",
       "      <td>0</td>\n",
       "    </tr>\n",
       "  </tbody>\n",
       "</table>\n",
       "</div>"
      ],
      "text/plain": [
       "   col_inexistente1  col2      col3  col_outliers  col_outliers2  \\\n",
       "0              59.0  52.0  2.232832           -50       0.771666   \n",
       "1              31.0  74.0  0.906147            -5       1.068558   \n",
       "2              81.0  28.0  0.626750           -32       0.846396   \n",
       "3              34.0  16.0  0.816738           -84       0.637381   \n",
       "4              32.0  28.0  0.571131            65       4.540614   \n",
       "\n",
       "  col_categorica col_ordinal  \\\n",
       "0          ratón    muy bien   \n",
       "1       elefante     regular   \n",
       "2          ratón     muy mal   \n",
       "3           gato         mal   \n",
       "4           gato        bien   \n",
       "\n",
       "                                           col_texto  objetivo  \n",
       "0  Tenía en su casa una ama que pasaba de los cua...         1  \n",
       "1  El resto della concluían sayo de velarte, calz...         0  \n",
       "2  El resto della concluían sayo de velarte, calz...         0  \n",
       "3  Una olla de algo más vaca que carnero, salpicó...         0  \n",
       "4  Tenía en su casa una ama que pasaba de los cua...         0  "
      ]
     },
     "execution_count": 44,
     "metadata": {},
     "output_type": "execute_result"
    }
   ],
   "source": [
    "datos.head()"
   ]
  },
  {
   "cell_type": "code",
   "execution_count": 45,
   "metadata": {
    "collapsed": true
   },
   "outputs": [],
   "source": [
    "from sklearn import preprocessing, feature_extraction"
   ]
  },
  {
   "cell_type": "markdown",
   "metadata": {},
   "source": [
    "Como vimos en un apartado anterior, en este ejemplo vamos a modificar cada variable en función de su tipo. Al conjunto de pasos que siguen los datos se le llama comúnmente **Pipelines** (literalmente, sistemas de tuberias)."
   ]
  },
  {
   "cell_type": "code",
   "execution_count": 46,
   "metadata": {},
   "outputs": [
    {
     "data": {
      "image/png": "[encoded data removed]",
      "text/plain": [
       "<IPython.core.display.Image object>"
      ]
     },
     "execution_count": 46,
     "metadata": {},
     "output_type": "execute_result"
    }
   ],
   "source": [
    "Image(\"../../media/pipeline.png\")"
   ]
  },
  {
   "cell_type": "markdown",
   "metadata": {},
   "source": [
    "**INCISO**\n",
    "\n",
    "vamos a modificar dos transformadores de scikitlearn para que sean compatibles con pipelines. Este paso es necesario en la version actual de scikit-learn, pero seguramente será arreglado en el futuro"
   ]
  },
  {
   "cell_type": "code",
   "execution_count": 47,
   "metadata": {
    "collapsed": true
   },
   "outputs": [],
   "source": [
    "class BinarizadorCategorico(preprocessing.LabelBinarizer):\n",
    "    def fit(self, X, y=None):\n",
    "        super(BinarizadorCategorico, self).fit(X)\n",
    "        \n",
    "    def transform(self, X, y=None):\n",
    "        return super(BinarizadorCategorico, self).transform(X)\n",
    "\n",
    "    def fit_transform(self, X, y=None):\n",
    "        return super(BinarizadorCategorico, self).fit(X).transform(X)\n",
    "    \n",
    "    \n",
    "class CodificadorCategorico(preprocessing.LabelEncoder):\n",
    "    def fit(self, X, y=None):\n",
    "        super(CodificadorCategorico, self).fit(X)\n",
    "        \n",
    "    def transform(self, X, y=None):\n",
    "        return super(CodificadorCategorico, self).transform(X)\n",
    "\n",
    "    def fit_transform(self, X, y=None):\n",
    "        return super(CodificadorCategorico, self).fit(X).transform(X)    "
   ]
  },
  {
   "cell_type": "markdown",
   "metadata": {},
   "source": [
    "En primer lugar vamos a definir los transformadores de forma similar a como hicimos la última vez, solo que en vez de usar `OneHotEncoder` vamos a usar nuestra version de sklearn `LabelBinarizer` que hace la codificación one hot directamente sobre una variable categórica."
   ]
  },
  {
   "cell_type": "code",
   "execution_count": 48,
   "metadata": {},
   "outputs": [],
   "source": [
    "from sklearn.linear_model import LogisticRegression\n",
    "\n",
    "col_numericas =  ['col_inexistente1', 'col2', 'col3', 'col_outliers', 'col_outliers2']\n",
    "col_categorica = ['col_categorica']\n",
    "col_texto = ['col_texto']\n",
    "col_ordinal = ['col_ordinal']\n",
    "\n",
    "imputador = preprocessing.Imputer()\n",
    "escalador = preprocessing.StandardScaler()\n",
    "\n",
    "transformador_ordinal = CodificadorCategorico()\n",
    "transformador_categorico = BinarizadorCategorico()\n",
    "\n",
    "transformador_texto = feature_extraction.text.TfidfVectorizer()\n",
    "\n",
    "estimador = LogisticRegression()"
   ]
  },
  {
   "cell_type": "markdown",
   "metadata": {},
   "source": [
    "Vemos que con el Binarizador transformamos como:"
   ]
  },
  {
   "cell_type": "code",
   "execution_count": 50,
   "metadata": {},
   "outputs": [
    {
     "data": {
      "text/html": [
       "<div>\n",
       "<style>\n",
       "    .dataframe thead tr:only-child th {\n",
       "        text-align: right;\n",
       "    }\n",
       "\n",
       "    .dataframe thead th {\n",
       "        text-align: left;\n",
       "    }\n",
       "\n",
       "    .dataframe tbody tr th {\n",
       "        vertical-align: top;\n",
       "    }\n",
       "</style>\n",
       "<table border=\"1\" class=\"dataframe\">\n",
       "  <thead>\n",
       "    <tr style=\"text-align: right;\">\n",
       "      <th></th>\n",
       "      <th>col_categorica</th>\n",
       "    </tr>\n",
       "  </thead>\n",
       "  <tbody>\n",
       "    <tr>\n",
       "      <th>0</th>\n",
       "      <td>ratón</td>\n",
       "    </tr>\n",
       "    <tr>\n",
       "      <th>1</th>\n",
       "      <td>elefante</td>\n",
       "    </tr>\n",
       "    <tr>\n",
       "      <th>2</th>\n",
       "      <td>ratón</td>\n",
       "    </tr>\n",
       "    <tr>\n",
       "      <th>3</th>\n",
       "      <td>gato</td>\n",
       "    </tr>\n",
       "    <tr>\n",
       "      <th>4</th>\n",
       "      <td>gato</td>\n",
       "    </tr>\n",
       "    <tr>\n",
       "      <th>5</th>\n",
       "      <td>perro</td>\n",
       "    </tr>\n",
       "    <tr>\n",
       "      <th>6</th>\n",
       "      <td>perro</td>\n",
       "    </tr>\n",
       "    <tr>\n",
       "      <th>7</th>\n",
       "      <td>perro</td>\n",
       "    </tr>\n",
       "    <tr>\n",
       "      <th>8</th>\n",
       "      <td>elefante</td>\n",
       "    </tr>\n",
       "    <tr>\n",
       "      <th>9</th>\n",
       "      <td>elefante</td>\n",
       "    </tr>\n",
       "    <tr>\n",
       "      <th>10</th>\n",
       "      <td>perro</td>\n",
       "    </tr>\n",
       "    <tr>\n",
       "      <th>11</th>\n",
       "      <td>elefante</td>\n",
       "    </tr>\n",
       "    <tr>\n",
       "      <th>12</th>\n",
       "      <td>gato</td>\n",
       "    </tr>\n",
       "    <tr>\n",
       "      <th>13</th>\n",
       "      <td>ratón</td>\n",
       "    </tr>\n",
       "    <tr>\n",
       "      <th>14</th>\n",
       "      <td>gato</td>\n",
       "    </tr>\n",
       "    <tr>\n",
       "      <th>15</th>\n",
       "      <td>ratón</td>\n",
       "    </tr>\n",
       "    <tr>\n",
       "      <th>16</th>\n",
       "      <td>elefante</td>\n",
       "    </tr>\n",
       "    <tr>\n",
       "      <th>17</th>\n",
       "      <td>ratón</td>\n",
       "    </tr>\n",
       "    <tr>\n",
       "      <th>18</th>\n",
       "      <td>ratón</td>\n",
       "    </tr>\n",
       "    <tr>\n",
       "      <th>19</th>\n",
       "      <td>elefante</td>\n",
       "    </tr>\n",
       "    <tr>\n",
       "      <th>20</th>\n",
       "      <td>ratón</td>\n",
       "    </tr>\n",
       "    <tr>\n",
       "      <th>21</th>\n",
       "      <td>ratón</td>\n",
       "    </tr>\n",
       "    <tr>\n",
       "      <th>22</th>\n",
       "      <td>ratón</td>\n",
       "    </tr>\n",
       "    <tr>\n",
       "      <th>23</th>\n",
       "      <td>gato</td>\n",
       "    </tr>\n",
       "    <tr>\n",
       "      <th>24</th>\n",
       "      <td>gato</td>\n",
       "    </tr>\n",
       "    <tr>\n",
       "      <th>25</th>\n",
       "      <td>ratón</td>\n",
       "    </tr>\n",
       "    <tr>\n",
       "      <th>26</th>\n",
       "      <td>gato</td>\n",
       "    </tr>\n",
       "    <tr>\n",
       "      <th>27</th>\n",
       "      <td>elefante</td>\n",
       "    </tr>\n",
       "    <tr>\n",
       "      <th>28</th>\n",
       "      <td>gato</td>\n",
       "    </tr>\n",
       "    <tr>\n",
       "      <th>29</th>\n",
       "      <td>elefante</td>\n",
       "    </tr>\n",
       "    <tr>\n",
       "      <th>...</th>\n",
       "      <td>...</td>\n",
       "    </tr>\n",
       "    <tr>\n",
       "      <th>970</th>\n",
       "      <td>ratón</td>\n",
       "    </tr>\n",
       "    <tr>\n",
       "      <th>971</th>\n",
       "      <td>gato</td>\n",
       "    </tr>\n",
       "    <tr>\n",
       "      <th>972</th>\n",
       "      <td>elefante</td>\n",
       "    </tr>\n",
       "    <tr>\n",
       "      <th>973</th>\n",
       "      <td>perro</td>\n",
       "    </tr>\n",
       "    <tr>\n",
       "      <th>974</th>\n",
       "      <td>perro</td>\n",
       "    </tr>\n",
       "    <tr>\n",
       "      <th>975</th>\n",
       "      <td>elefante</td>\n",
       "    </tr>\n",
       "    <tr>\n",
       "      <th>976</th>\n",
       "      <td>ratón</td>\n",
       "    </tr>\n",
       "    <tr>\n",
       "      <th>977</th>\n",
       "      <td>perro</td>\n",
       "    </tr>\n",
       "    <tr>\n",
       "      <th>978</th>\n",
       "      <td>elefante</td>\n",
       "    </tr>\n",
       "    <tr>\n",
       "      <th>979</th>\n",
       "      <td>ratón</td>\n",
       "    </tr>\n",
       "    <tr>\n",
       "      <th>980</th>\n",
       "      <td>gato</td>\n",
       "    </tr>\n",
       "    <tr>\n",
       "      <th>981</th>\n",
       "      <td>perro</td>\n",
       "    </tr>\n",
       "    <tr>\n",
       "      <th>982</th>\n",
       "      <td>ratón</td>\n",
       "    </tr>\n",
       "    <tr>\n",
       "      <th>983</th>\n",
       "      <td>gato</td>\n",
       "    </tr>\n",
       "    <tr>\n",
       "      <th>984</th>\n",
       "      <td>gato</td>\n",
       "    </tr>\n",
       "    <tr>\n",
       "      <th>985</th>\n",
       "      <td>ratón</td>\n",
       "    </tr>\n",
       "    <tr>\n",
       "      <th>986</th>\n",
       "      <td>ratón</td>\n",
       "    </tr>\n",
       "    <tr>\n",
       "      <th>987</th>\n",
       "      <td>gato</td>\n",
       "    </tr>\n",
       "    <tr>\n",
       "      <th>988</th>\n",
       "      <td>perro</td>\n",
       "    </tr>\n",
       "    <tr>\n",
       "      <th>989</th>\n",
       "      <td>perro</td>\n",
       "    </tr>\n",
       "    <tr>\n",
       "      <th>990</th>\n",
       "      <td>perro</td>\n",
       "    </tr>\n",
       "    <tr>\n",
       "      <th>991</th>\n",
       "      <td>elefante</td>\n",
       "    </tr>\n",
       "    <tr>\n",
       "      <th>992</th>\n",
       "      <td>gato</td>\n",
       "    </tr>\n",
       "    <tr>\n",
       "      <th>993</th>\n",
       "      <td>ratón</td>\n",
       "    </tr>\n",
       "    <tr>\n",
       "      <th>994</th>\n",
       "      <td>ratón</td>\n",
       "    </tr>\n",
       "    <tr>\n",
       "      <th>995</th>\n",
       "      <td>elefante</td>\n",
       "    </tr>\n",
       "    <tr>\n",
       "      <th>996</th>\n",
       "      <td>ratón</td>\n",
       "    </tr>\n",
       "    <tr>\n",
       "      <th>997</th>\n",
       "      <td>elefante</td>\n",
       "    </tr>\n",
       "    <tr>\n",
       "      <th>998</th>\n",
       "      <td>elefante</td>\n",
       "    </tr>\n",
       "    <tr>\n",
       "      <th>999</th>\n",
       "      <td>elefante</td>\n",
       "    </tr>\n",
       "  </tbody>\n",
       "</table>\n",
       "<p>1000 rows × 1 columns</p>\n",
       "</div>"
      ],
      "text/plain": [
       "    col_categorica\n",
       "0            ratón\n",
       "1         elefante\n",
       "2            ratón\n",
       "3             gato\n",
       "4             gato\n",
       "5            perro\n",
       "6            perro\n",
       "7            perro\n",
       "8         elefante\n",
       "9         elefante\n",
       "10           perro\n",
       "11        elefante\n",
       "12            gato\n",
       "13           ratón\n",
       "14            gato\n",
       "15           ratón\n",
       "16        elefante\n",
       "17           ratón\n",
       "18           ratón\n",
       "19        elefante\n",
       "20           ratón\n",
       "21           ratón\n",
       "22           ratón\n",
       "23            gato\n",
       "24            gato\n",
       "25           ratón\n",
       "26            gato\n",
       "27        elefante\n",
       "28            gato\n",
       "29        elefante\n",
       "..             ...\n",
       "970          ratón\n",
       "971           gato\n",
       "972       elefante\n",
       "973          perro\n",
       "974          perro\n",
       "975       elefante\n",
       "976          ratón\n",
       "977          perro\n",
       "978       elefante\n",
       "979          ratón\n",
       "980           gato\n",
       "981          perro\n",
       "982          ratón\n",
       "983           gato\n",
       "984           gato\n",
       "985          ratón\n",
       "986          ratón\n",
       "987           gato\n",
       "988          perro\n",
       "989          perro\n",
       "990          perro\n",
       "991       elefante\n",
       "992           gato\n",
       "993          ratón\n",
       "994          ratón\n",
       "995       elefante\n",
       "996          ratón\n",
       "997       elefante\n",
       "998       elefante\n",
       "999       elefante\n",
       "\n",
       "[1000 rows x 1 columns]"
      ]
     },
     "execution_count": 50,
     "metadata": {},
     "output_type": "execute_result"
    }
   ],
   "source": [
    "datos[col_categorica]"
   ]
  },
  {
   "cell_type": "code",
   "execution_count": 49,
   "metadata": {},
   "outputs": [
    {
     "data": {
      "text/plain": [
       "array([[0, 0, 0, 1],\n",
       "       [1, 0, 0, 0],\n",
       "       [0, 0, 0, 1],\n",
       "       ..., \n",
       "       [1, 0, 0, 0],\n",
       "       [1, 0, 0, 0],\n",
       "       [1, 0, 0, 0]])"
      ]
     },
     "execution_count": 49,
     "metadata": {},
     "output_type": "execute_result"
    }
   ],
   "source": [
    "transformador_categorico.fit_transform(datos[col_categorica])"
   ]
  },
  {
   "cell_type": "markdown",
   "metadata": {},
   "source": [
    "Que es mucho más sencillo que cómo lo hicimos la vez anterior:"
   ]
  },
  {
   "cell_type": "code",
   "execution_count": 51,
   "metadata": {},
   "outputs": [
    {
     "name": "stderr",
     "output_type": "stream",
     "text": [
      "/home/manuel/anaconda3/envs/data/lib/python3.6/site-packages/sklearn/preprocessing/label.py:95: DataConversionWarning: A column-vector y was passed when a 1d array was expected. Please change the shape of y to (n_samples, ), for example using ravel().\n",
      "  y = column_or_1d(y, warn=True)\n",
      "/home/manuel/anaconda3/envs/data/lib/python3.6/site-packages/sklearn/preprocessing/label.py:128: DataConversionWarning: A column-vector y was passed when a 1d array was expected. Please change the shape of y to (n_samples, ), for example using ravel().\n",
      "  y = column_or_1d(y, warn=True)\n"
     ]
    },
    {
     "data": {
      "text/plain": [
       "array([[ 0.,  0.,  0.,  1.],\n",
       "       [ 1.,  0.,  0.,  0.],\n",
       "       [ 0.,  0.,  0.,  1.],\n",
       "       ..., \n",
       "       [ 1.,  0.,  0.,  0.],\n",
       "       [ 1.,  0.,  0.,  0.],\n",
       "       [ 1.,  0.,  0.,  0.]])"
      ]
     },
     "execution_count": 51,
     "metadata": {},
     "output_type": "execute_result"
    }
   ],
   "source": [
    "preprocessing.OneHotEncoder().fit_transform(\n",
    "    transformador_ordinal.fit_transform(datos[col_categorica]).reshape(1000,1)\n",
    ").toarray()"
   ]
  },
  {
   "cell_type": "code",
   "execution_count": 52,
   "metadata": {
    "collapsed": true
   },
   "outputs": [],
   "source": [
    "from sklearn.linear_model import LogisticRegression"
   ]
  },
  {
   "cell_type": "code",
   "execution_count": 53,
   "metadata": {
    "collapsed": true
   },
   "outputs": [],
   "source": [
    "from sklearn.pipeline import Pipeline"
   ]
  },
  {
   "cell_type": "markdown",
   "metadata": {},
   "source": [
    "Un pipeline de sklearn se define como una secuencia de pasos. Cada paso se define con una tupla de forma `[nombre del paso, transformador]`\n",
    "\n",
    "Por ejemplo, si queremos crear un pipeline que procese las variables numéricas, primero imputándolas y después estandarizandolas, podriamos crear un pipeline como:"
   ]
  },
  {
   "cell_type": "code",
   "execution_count": 54,
   "metadata": {
    "collapsed": true
   },
   "outputs": [],
   "source": [
    "transformador_numerico = Pipeline(\n",
    "     [('imputador', imputador), ('escalador', escalador)]\n",
    ")"
   ]
  },
  {
   "cell_type": "code",
   "execution_count": 55,
   "metadata": {},
   "outputs": [
    {
     "data": {
      "text/plain": [
       "Pipeline(memory=None,\n",
       "     steps=[('imputador', Imputer(axis=0, copy=True, missing_values='NaN', strategy='mean', verbose=0)), ('escalador', StandardScaler(copy=True, with_mean=True, with_std=True))])"
      ]
     },
     "execution_count": 55,
     "metadata": {},
     "output_type": "execute_result"
    }
   ],
   "source": [
    "transformador_numerico"
   ]
  },
  {
   "cell_type": "markdown",
   "metadata": {},
   "source": [
    "Ahora tenemos definidos los pasos que queremos aplicar a cada variable."
   ]
  },
  {
   "cell_type": "code",
   "execution_count": 56,
   "metadata": {},
   "outputs": [
    {
     "data": {
      "text/plain": [
       "array([[ 0.39921733,  0.08280686,  0.44281884, -0.69460006, -0.03836537],\n",
       "       [-0.65360504,  0.86133291, -0.32339035, -0.11846597, -0.03827803],\n",
       "       [ 1.22643491, -0.76649428, -0.4847522 , -0.46414642, -0.03834338],\n",
       "       ..., \n",
       "       [-1.10481463,  0.11819441, -0.42094381,  0.88016644, -0.03819664],\n",
       "       [ 1.48964051,  1.56908386, -0.4077454 ,  0.81615154, -0.03818958],\n",
       "       [ 1.7152453 ,  0.22435705, -0.13638793,  0.72653069, -0.03831468]])"
      ]
     },
     "execution_count": 56,
     "metadata": {},
     "output_type": "execute_result"
    }
   ],
   "source": [
    "transformador_numerico.fit_transform(datos[col_numericas])"
   ]
  },
  {
   "cell_type": "markdown",
   "metadata": {},
   "source": [
    "Pero seguimos teniendo el mismo problema de siempre, como podemos aplicar determinados transformadores a determinadas variables?\n",
    "\n",
    "Bien, para los casos en los que tenemos un dataframe de Pandas, una opcion es crear un transformador customizado que simplemente selecciones columnas de un dataframe."
   ]
  },
  {
   "cell_type": "markdown",
   "metadata": {},
   "source": [
    "En `scikit-learn` podemos crear nuestros propios transformadores creando una clase que herede de `TransformerMixin` y que tenga el mètodo `transform`."
   ]
  },
  {
   "cell_type": "code",
   "execution_count": 58,
   "metadata": {
    "collapsed": true
   },
   "outputs": [],
   "source": [
    "from sklearn.base import TransformerMixin\n",
    "\n",
    "class TransformadorBase(TransformerMixin):\n",
    "    def __init__(self):\n",
    "        pass\n",
    "\n",
    "    def fit(self, X, y=None):\n",
    "        return self\n",
    "\n",
    "    def transform(self, X):\n",
    "        return X"
   ]
  },
  {
   "cell_type": "markdown",
   "metadata": {},
   "source": [
    "Vamos a crear dos transformadores, un `DenseTransformer` que convierte una matriz `sparse` en un array (tomado de [mlxtend](http://rasbt.github.io/mlxtend/), y `ColumnExtractor` que devuelve una selección de columnas. "
   ]
  },
  {
   "cell_type": "code",
   "execution_count": 59,
   "metadata": {
    "collapsed": true
   },
   "outputs": [],
   "source": [
    "from sklearn.base import BaseEstimator\n",
    "\n",
    "from scipy.sparse import issparse\n",
    "\n",
    "\n",
    "# http://rasbt.github.io/mlxtend/\n",
    "class DenseTransformer(BaseEstimator):\n",
    "    def __init__(self, return_copy=True):\n",
    "        self.return_copy = return_copy\n",
    "        self.is_fitted = False\n",
    "\n",
    "    def transform(self, X, y=None):\n",
    "        if issparse(X):\n",
    "            return X.toarray()\n",
    "        elif self.return_copy:\n",
    "            return X.copy()\n",
    "        else:\n",
    "            return X\n",
    "\n",
    "    def fit(self, X, y=None):\n",
    "        self.is_fitted = True\n",
    "        return self\n",
    "\n",
    "    def fit_transform(self, X, y=None):\n",
    "        return self.transform(X=X, y=y)\n",
    "\n",
    "class ColumnExtractor(TransformerMixin):\n",
    "\n",
    "    def __init__(self, columns):\n",
    "        self.columns = columns\n",
    "        \n",
    "    def transform(self, X, **transform_params):\n",
    "        return X[self.columns].as_matrix()\n",
    "        \n",
    "    def fit(self, X, y=None, **fit_params):\n",
    "        return self"
   ]
  },
  {
   "cell_type": "markdown",
   "metadata": {},
   "source": [
    "Por ejemplo si creamos un ColumnExtractor pasandole las columnas numéricas tenemos un transformador que podemos usar en un pipeline y que simplemente selecciona un subgrupo de columnas (devolviendolas como matriz)"
   ]
  },
  {
   "cell_type": "code",
   "execution_count": 60,
   "metadata": {
    "collapsed": true
   },
   "outputs": [],
   "source": [
    "cext = ColumnExtractor(columns=col_numericas)"
   ]
  },
  {
   "cell_type": "code",
   "execution_count": 61,
   "metadata": {},
   "outputs": [
    {
     "data": {
      "text/plain": [
       "array([[ 59.        ,  52.        ,   2.23283208, -50.        ,\n",
       "          0.77166646],\n",
       "       [ 31.        ,  74.        ,   0.90614714,  -5.        ,\n",
       "          1.06855838],\n",
       "       [ 81.        ,  28.        ,   0.62675042, -32.        ,\n",
       "          0.84639576],\n",
       "       ..., \n",
       "       [ 19.        ,  53.        ,   0.73723413,  73.        ,\n",
       "          1.34525201],\n",
       "       [ 88.        ,  94.        ,   0.76008706,  68.        ,   1.3692463 ],\n",
       "       [ 94.        ,  56.        ,   1.2299403 ,  61.        ,\n",
       "          0.94395714]])"
      ]
     },
     "execution_count": 61,
     "metadata": {},
     "output_type": "execute_result"
    }
   ],
   "source": [
    "cext.fit_transform(datos)"
   ]
  },
  {
   "cell_type": "markdown",
   "metadata": {},
   "source": [
    "Creamos ahora los pipelines para cada tipo de variable. En algunos casos he añadido pasos adicionales por dos motivos. El primero, que determinados elementos de sklearn esperan datos ligeramente distintos. En segundo lugar, para conseguir que la salida de cada pipeline tenga la misma forma (un array de arrays)."
   ]
  },
  {
   "cell_type": "code",
   "execution_count": 62,
   "metadata": {},
   "outputs": [
    {
     "data": {
      "text/plain": [
       "array([[ 0.39921733,  0.08280686,  0.44281884, -0.69460006, -0.03836537],\n",
       "       [-0.65360504,  0.86133291, -0.32339035, -0.11846597, -0.03827803],\n",
       "       [ 1.22643491, -0.76649428, -0.4847522 , -0.46414642, -0.03834338],\n",
       "       [-0.54080264, -1.19114485, -0.37502756, -1.12990136, -0.03840487],\n",
       "       [-0.61600424, -0.76649428, -0.51687443,  0.77774261, -0.03725668]])"
      ]
     },
     "execution_count": 62,
     "metadata": {},
     "output_type": "execute_result"
    }
   ],
   "source": [
    "pipeline_numerico = Pipeline([\n",
    "    ['selector_numerico', ColumnExtractor(columns=col_numericas)],\n",
    "    ['transformador_numerico', transformador_numerico]\n",
    "])\n",
    "\n",
    "pipeline_numerico.fit_transform(datos)[:5]"
   ]
  },
  {
   "cell_type": "code",
   "execution_count": 63,
   "metadata": {},
   "outputs": [
    {
     "data": {
      "text/plain": [
       "array([[ 0.        ,  0.        ,  0.        ,  0.        ,  0.        ,\n",
       "         0.20474512,  0.        ,  0.        ,  0.        ,  0.20474512,\n",
       "         0.        ,  0.        ,  0.        ,  0.        ,  0.        ,\n",
       "         0.        ,  0.20474512,  0.        ,  0.        ,  0.20474512,\n",
       "         0.        ,  0.        ,  0.        ,  0.20474512,  0.        ,\n",
       "         0.        ,  0.        ,  0.        ,  0.        ,  0.        ,\n",
       "         0.20474512,  0.        ,  0.        ,  0.14641557,  0.        ,\n",
       "         0.        ,  0.        ,  0.        ,  0.        ,  0.        ,\n",
       "         0.        ,  0.        ,  0.        ,  0.        ,  0.12243162,\n",
       "         0.12073233,  0.        ,  0.20474512,  0.        ,  0.        ,\n",
       "         0.        ,  0.        ,  0.        ,  0.        ,  0.        ,\n",
       "         0.        ,  0.        ,  0.        ,  0.        ,  0.        ,\n",
       "         0.        ,  0.        ,  0.        ,  0.        ,  0.        ,\n",
       "         0.10065821,  0.        ,  0.        ,  0.        ,  0.        ,\n",
       "         0.20474512,  0.        ,  0.14641557,  0.        ,  0.        ,\n",
       "         0.        ,  0.        ,  0.20474512,  0.        ,  0.        ,\n",
       "         0.        ,  0.12073233,  0.        ,  0.        ,  0.        ,\n",
       "         0.        ,  0.        ,  0.        ,  0.        ,  0.        ,\n",
       "         0.20474512,  0.        ,  0.20474512,  0.        ,  0.20474512,\n",
       "         0.        ,  0.        ,  0.30944223,  0.        ,  0.        ,\n",
       "         0.        ,  0.        ,  0.        ,  0.        ,  0.        ,\n",
       "         0.        ,  0.15034558,  0.        ,  0.        ,  0.        ,\n",
       "         0.        ,  0.        ,  0.        ,  0.        ,  0.        ,\n",
       "         0.20474512,  0.12716589,  0.        ,  0.        ,  0.15225823,\n",
       "         0.        ,  0.20474512,  0.        ,  0.12073233,  0.31898902,\n",
       "         0.        ,  0.20474512,  0.        ,  0.        ,  0.        ,\n",
       "         0.        ,  0.        ,  0.        ,  0.        ],\n",
       "       [ 0.        ,  0.        ,  0.        ,  0.        ,  0.        ,\n",
       "         0.        ,  0.        ,  0.        ,  0.        ,  0.        ,\n",
       "         0.        ,  0.        ,  0.        ,  0.        ,  0.        ,\n",
       "         0.18184158,  0.        ,  0.        ,  0.        ,  0.        ,\n",
       "         0.        ,  0.        ,  0.        ,  0.        ,  0.        ,\n",
       "         0.27509712,  0.18184158,  0.        ,  0.        ,  0.        ,\n",
       "         0.        ,  0.        ,  0.        ,  0.32927279,  0.        ,\n",
       "         0.        ,  0.18184158,  0.        ,  0.        ,  0.        ,\n",
       "         0.        ,  0.        ,  0.18184158,  0.        ,  0.11013419,\n",
       "         0.        ,  0.        ,  0.        ,  0.        ,  0.18184158,\n",
       "         0.        ,  0.        ,  0.        ,  0.18184158,  0.18184158,\n",
       "         0.        ,  0.        ,  0.        ,  0.        ,  0.        ,\n",
       "         0.        ,  0.        ,  0.        ,  0.18184158,  0.        ,\n",
       "         0.        ,  0.        ,  0.14220382,  0.        ,  0.        ,\n",
       "         0.        ,  0.36368315,  0.06585456,  0.        ,  0.        ,\n",
       "         0.        ,  0.18184158,  0.        ,  0.        ,  0.14220382,\n",
       "         0.        ,  0.        ,  0.        ,  0.        ,  0.        ,\n",
       "         0.        ,  0.        ,  0.18184158,  0.18184158,  0.        ,\n",
       "         0.        ,  0.        ,  0.        ,  0.        ,  0.        ,\n",
       "         0.        ,  0.        ,  0.        ,  0.        ,  0.        ,\n",
       "         0.        ,  0.        ,  0.        ,  0.        ,  0.        ,\n",
       "         0.18184158,  0.        ,  0.        ,  0.        ,  0.        ,\n",
       "         0.18184158,  0.13581291,  0.        ,  0.18184158,  0.        ,\n",
       "         0.        ,  0.11439294,  0.18184158,  0.        ,  0.        ,\n",
       "         0.        ,  0.        ,  0.        ,  0.        ,  0.        ,\n",
       "         0.        ,  0.        ,  0.18184158,  0.18184158,  0.18184158,\n",
       "         0.        ,  0.        ,  0.        ,  0.        ],\n",
       "       [ 0.        ,  0.        ,  0.        ,  0.        ,  0.        ,\n",
       "         0.        ,  0.        ,  0.        ,  0.        ,  0.        ,\n",
       "         0.        ,  0.        ,  0.        ,  0.        ,  0.        ,\n",
       "         0.18184158,  0.        ,  0.        ,  0.        ,  0.        ,\n",
       "         0.        ,  0.        ,  0.        ,  0.        ,  0.        ,\n",
       "         0.27509712,  0.18184158,  0.        ,  0.        ,  0.        ,\n",
       "         0.        ,  0.        ,  0.        ,  0.32927279,  0.        ,\n",
       "         0.        ,  0.18184158,  0.        ,  0.        ,  0.        ,\n",
       "         0.        ,  0.        ,  0.18184158,  0.        ,  0.11013419,\n",
       "         0.        ,  0.        ,  0.        ,  0.        ,  0.18184158,\n",
       "         0.        ,  0.        ,  0.        ,  0.18184158,  0.18184158,\n",
       "         0.        ,  0.        ,  0.        ,  0.        ,  0.        ,\n",
       "         0.        ,  0.        ,  0.        ,  0.18184158,  0.        ,\n",
       "         0.        ,  0.        ,  0.14220382,  0.        ,  0.        ,\n",
       "         0.        ,  0.36368315,  0.06585456,  0.        ,  0.        ,\n",
       "         0.        ,  0.18184158,  0.        ,  0.        ,  0.14220382,\n",
       "         0.        ,  0.        ,  0.        ,  0.        ,  0.        ,\n",
       "         0.        ,  0.        ,  0.18184158,  0.18184158,  0.        ,\n",
       "         0.        ,  0.        ,  0.        ,  0.        ,  0.        ,\n",
       "         0.        ,  0.        ,  0.        ,  0.        ,  0.        ,\n",
       "         0.        ,  0.        ,  0.        ,  0.        ,  0.        ,\n",
       "         0.18184158,  0.        ,  0.        ,  0.        ,  0.        ,\n",
       "         0.18184158,  0.13581291,  0.        ,  0.18184158,  0.        ,\n",
       "         0.        ,  0.11439294,  0.18184158,  0.        ,  0.        ,\n",
       "         0.        ,  0.        ,  0.        ,  0.        ,  0.        ,\n",
       "         0.        ,  0.        ,  0.18184158,  0.18184158,  0.18184158,\n",
       "         0.        ,  0.        ,  0.        ,  0.        ],\n",
       "       [ 0.        ,  0.        ,  0.19427241,  0.        ,  0.19427241,\n",
       "         0.        ,  0.        ,  0.        ,  0.        ,  0.        ,\n",
       "         0.        ,  0.        ,  0.19427241,  0.        ,  0.        ,\n",
       "         0.        ,  0.        ,  0.19427241,  0.        ,  0.        ,\n",
       "         0.        ,  0.        ,  0.        ,  0.        ,  0.        ,\n",
       "         0.        ,  0.        ,  0.        ,  0.19427241,  0.        ,\n",
       "         0.        ,  0.        ,  0.        ,  0.19783944,  0.        ,\n",
       "         0.        ,  0.        ,  0.        ,  0.        ,  0.19427241,\n",
       "         0.19427241,  0.        ,  0.        ,  0.        ,  0.        ,\n",
       "         0.        ,  0.        ,  0.        ,  0.        ,  0.        ,\n",
       "         0.        ,  0.        ,  0.        ,  0.        ,  0.        ,\n",
       "         0.        ,  0.        ,  0.        ,  0.        ,  0.        ,\n",
       "         0.19427241,  0.        ,  0.        ,  0.        ,  0.        ,\n",
       "         0.        ,  0.        ,  0.28480462,  0.19427241,  0.        ,\n",
       "         0.        ,  0.        ,  0.19783944,  0.        ,  0.        ,\n",
       "         0.        ,  0.        ,  0.        ,  0.        ,  0.28480462,\n",
       "         0.        ,  0.        ,  0.19427241,  0.        ,  0.        ,\n",
       "         0.19427241,  0.19427241,  0.        ,  0.        ,  0.19427241,\n",
       "         0.        ,  0.        ,  0.        ,  0.        ,  0.        ,\n",
       "         0.        ,  0.        ,  0.09291646,  0.19427241,  0.        ,\n",
       "         0.        ,  0.        ,  0.        ,  0.        ,  0.        ,\n",
       "         0.        ,  0.        ,  0.        ,  0.        ,  0.19427241,\n",
       "         0.        ,  0.        ,  0.        ,  0.        ,  0.        ,\n",
       "         0.        ,  0.11455261,  0.        ,  0.19427241,  0.        ,\n",
       "         0.        ,  0.        ,  0.19427241,  0.        ,  0.14367463,\n",
       "         0.19427241,  0.        ,  0.        ,  0.        ,  0.        ,\n",
       "         0.        ,  0.        ,  0.19427241,  0.        ],\n",
       "       [ 0.        ,  0.        ,  0.        ,  0.        ,  0.        ,\n",
       "         0.20474512,  0.        ,  0.        ,  0.        ,  0.20474512,\n",
       "         0.        ,  0.        ,  0.        ,  0.        ,  0.        ,\n",
       "         0.        ,  0.20474512,  0.        ,  0.        ,  0.20474512,\n",
       "         0.        ,  0.        ,  0.        ,  0.20474512,  0.        ,\n",
       "         0.        ,  0.        ,  0.        ,  0.        ,  0.        ,\n",
       "         0.20474512,  0.        ,  0.        ,  0.14641557,  0.        ,\n",
       "         0.        ,  0.        ,  0.        ,  0.        ,  0.        ,\n",
       "         0.        ,  0.        ,  0.        ,  0.        ,  0.12243162,\n",
       "         0.12073233,  0.        ,  0.20474512,  0.        ,  0.        ,\n",
       "         0.        ,  0.        ,  0.        ,  0.        ,  0.        ,\n",
       "         0.        ,  0.        ,  0.        ,  0.        ,  0.        ,\n",
       "         0.        ,  0.        ,  0.        ,  0.        ,  0.        ,\n",
       "         0.10065821,  0.        ,  0.        ,  0.        ,  0.        ,\n",
       "         0.20474512,  0.        ,  0.14641557,  0.        ,  0.        ,\n",
       "         0.        ,  0.        ,  0.20474512,  0.        ,  0.        ,\n",
       "         0.        ,  0.12073233,  0.        ,  0.        ,  0.        ,\n",
       "         0.        ,  0.        ,  0.        ,  0.        ,  0.        ,\n",
       "         0.20474512,  0.        ,  0.20474512,  0.        ,  0.20474512,\n",
       "         0.        ,  0.        ,  0.30944223,  0.        ,  0.        ,\n",
       "         0.        ,  0.        ,  0.        ,  0.        ,  0.        ,\n",
       "         0.        ,  0.15034558,  0.        ,  0.        ,  0.        ,\n",
       "         0.        ,  0.        ,  0.        ,  0.        ,  0.        ,\n",
       "         0.20474512,  0.12716589,  0.        ,  0.        ,  0.15225823,\n",
       "         0.        ,  0.20474512,  0.        ,  0.12073233,  0.31898902,\n",
       "         0.        ,  0.20474512,  0.        ,  0.        ,  0.        ,\n",
       "         0.        ,  0.        ,  0.        ,  0.        ]])"
      ]
     },
     "execution_count": 63,
     "metadata": {},
     "output_type": "execute_result"
    }
   ],
   "source": [
    "pipeline_texto = Pipeline([\n",
    "        ['selector_texto', ColumnExtractor(columns=col_texto)],\n",
    "        ['transformador_dim', preprocessing.FunctionTransformer(lambda x: x[:,0], validate=False)],\n",
    "        ['transformador_texto', transformador_texto],\n",
    "        ['texto_array', DenseTransformer()]\n",
    "    ])\n",
    "\n",
    "pipeline_texto.fit_transform(datos)[:5]"
   ]
  },
  {
   "cell_type": "code",
   "execution_count": 64,
   "metadata": {},
   "outputs": [
    {
     "data": {
      "text/plain": [
       "array([[0, 0, 0, 1],\n",
       "       [1, 0, 0, 0],\n",
       "       [0, 0, 0, 1],\n",
       "       [0, 1, 0, 0],\n",
       "       [0, 1, 0, 0]])"
      ]
     },
     "execution_count": 64,
     "metadata": {},
     "output_type": "execute_result"
    }
   ],
   "source": [
    "pipeline_categorico = Pipeline([\n",
    "    ['selector_categorica', ColumnExtractor(columns=col_categorica)],\n",
    "    ['transformador_categorico', transformador_categorico]\n",
    "])\n",
    "\n",
    "pipeline_categorico.fit_transform(datos)[:5]"
   ]
  },
  {
   "cell_type": "markdown",
   "metadata": {},
   "source": [
    "En el caso del pipeline ordinal hay que manipular las dimensiones de los arrays dado que trabaja con un vector de dimension 1."
   ]
  },
  {
   "cell_type": "code",
   "execution_count": 65,
   "metadata": {
    "scrolled": true
   },
   "outputs": [
    {
     "data": {
      "text/plain": [
       "array([[2],\n",
       "       [4],\n",
       "       [3],\n",
       "       [1],\n",
       "       [0]])"
      ]
     },
     "execution_count": 65,
     "metadata": {},
     "output_type": "execute_result"
    }
   ],
   "source": [
    "pipeline_ordinal = Pipeline([\n",
    "    ['selector_ordinal', ColumnExtractor(columns=col_ordinal)],\n",
    "    ['transformador_dim1', preprocessing.FunctionTransformer(lambda x: x[:,0], validate=False)],\n",
    "    ['transformador_ordinal', transformador_ordinal],\n",
    "    ['transformador_dim2', preprocessing.FunctionTransformer(lambda x: np.vstack(x[:]), validate=False)],\n",
    "])\n",
    "\n",
    "\n",
    "pipeline_ordinal.fit_transform(datos)[:5]"
   ]
  },
  {
   "cell_type": "markdown",
   "metadata": {},
   "source": [
    "Ya tenemos una manera de, dado un conjunto de datos, separarlos y aplicar distintas transformaciones a cada variable. Nos falta una manera de, una vez se han transformado, reunirlas de nuevo."
   ]
  },
  {
   "cell_type": "markdown",
   "metadata": {},
   "source": [
    "Para ello podemos usar `FeatureUnion`, que simplemente toma un conjunto de pasos de un pipeline y los une."
   ]
  },
  {
   "cell_type": "code",
   "execution_count": null,
   "metadata": {
    "collapsed": true
   },
   "outputs": [],
   "source": [
    "from sklearn.pipeline import FeatureUnion"
   ]
  },
  {
   "cell_type": "code",
   "execution_count": 66,
   "metadata": {
    "collapsed": true
   },
   "outputs": [],
   "source": [
    "pipeline_procesado = FeatureUnion([\n",
    "    ('variables_numericas', pipeline_numerico),\n",
    "    ('variables_ordinales', pipeline_ordinal),\n",
    "    ('variables_texto', pipeline_texto),\n",
    "    ('variables_categoricas', pipeline_categorico),\n",
    "])"
   ]
  },
  {
   "cell_type": "code",
   "execution_count": 67,
   "metadata": {},
   "outputs": [
    {
     "data": {
      "text/plain": [
       "FeatureUnion(n_jobs=1,\n",
       "       transformer_list=[('variables_numericas', Pipeline(memory=None,\n",
       "     steps=[('selector_numerico', <__main__.ColumnExtractor object at 0x7f389c7fc860>), ['transformador_numerico', Pipeline(memory=None,\n",
       "     steps=[('imputador', Imputer(axis=0, copy=True, missing_values='NaN', strategy='mean', verbose...transformador_categorico', BinarizadorCategorico(neg_label=0, pos_label=1, sparse_output=False)]]))],\n",
       "       transformer_weights=None)"
      ]
     },
     "execution_count": 67,
     "metadata": {},
     "output_type": "execute_result"
    }
   ],
   "source": [
    "pipeline_procesado"
   ]
  },
  {
   "cell_type": "code",
   "execution_count": 70,
   "metadata": {},
   "outputs": [
    {
     "data": {
      "text/plain": [
       "array([[ 0.39921733,  0.08280686,  0.44281884, ...,  0.        ,\n",
       "         0.        ,  1.        ],\n",
       "       [-0.65360504,  0.86133291, -0.32339035, ...,  0.        ,\n",
       "         0.        ,  0.        ],\n",
       "       [ 1.22643491, -0.76649428, -0.4847522 , ...,  0.        ,\n",
       "         0.        ,  1.        ],\n",
       "       ..., \n",
       "       [-1.10481463,  0.11819441, -0.42094381, ...,  0.        ,\n",
       "         0.        ,  0.        ],\n",
       "       [ 1.48964051,  1.56908386, -0.4077454 , ...,  0.        ,\n",
       "         0.        ,  0.        ],\n",
       "       [ 1.7152453 ,  0.22435705, -0.13638793, ...,  0.        ,\n",
       "         0.        ,  0.        ]])"
      ]
     },
     "execution_count": 70,
     "metadata": {},
     "output_type": "execute_result"
    }
   ],
   "source": [
    "pipeline_procesado.fit_transform(datos)"
   ]
  },
  {
   "cell_type": "markdown",
   "metadata": {},
   "source": [
    "Finalmente, necesitamos añadir un estimador al final para predecir en base a los datos transformados"
   ]
  },
  {
   "cell_type": "code",
   "execution_count": 71,
   "metadata": {
    "collapsed": true
   },
   "outputs": [],
   "source": [
    "pipeline_estimador = Pipeline([\n",
    "    ('procesador', pipeline_procesado),\n",
    "    ('estimador', estimador)\n",
    "])"
   ]
  },
  {
   "cell_type": "code",
   "execution_count": 72,
   "metadata": {},
   "outputs": [
    {
     "data": {
      "text/plain": [
       "Pipeline(memory=None,\n",
       "     steps=[('procesador', FeatureUnion(n_jobs=1,\n",
       "       transformer_list=[('variables_numericas', Pipeline(memory=None,\n",
       "     steps=[('selector_numerico', <__main__.ColumnExtractor object at 0x7f389c7fc860>), ['transformador_numerico', Pipeline(memory=None,\n",
       "     steps=[('imputador', Imputer(axis=0, copy=...ty='l2', random_state=None, solver='liblinear', tol=0.0001,\n",
       "          verbose=0, warm_start=False))])"
      ]
     },
     "execution_count": 72,
     "metadata": {},
     "output_type": "execute_result"
    }
   ],
   "source": [
    "pipeline_estimador.fit(datos, datos.objetivo)"
   ]
  },
  {
   "cell_type": "code",
   "execution_count": 73,
   "metadata": {},
   "outputs": [
    {
     "data": {
      "text/plain": [
       "array([0, 1, 0, 1, 1])"
      ]
     },
     "execution_count": 73,
     "metadata": {},
     "output_type": "execute_result"
    }
   ],
   "source": [
    "pipeline_estimador.predict(datos)[:5]"
   ]
  },
  {
   "cell_type": "markdown",
   "metadata": {},
   "source": [
    "El beneficio de los pipelines, no solo es tener codigo mas legible y poder gestionar de forma ordenada todo el ciclo de vida del modelado, sino que los pipelines tienen todos los beneficios de los objetos de scikitlearn, por ejemplo, podemos usar validacion cruzada directamente con el pipeline."
   ]
  },
  {
   "cell_type": "code",
   "execution_count": 74,
   "metadata": {
    "collapsed": true
   },
   "outputs": [],
   "source": [
    "from sklearn.model_selection import cross_val_score"
   ]
  },
  {
   "cell_type": "code",
   "execution_count": 75,
   "metadata": {
    "scrolled": true
   },
   "outputs": [
    {
     "data": {
      "text/plain": [
       "array([ 0.53326733,  0.48934893,  0.52035204,  0.49464946,  0.47535354])"
      ]
     },
     "execution_count": 75,
     "metadata": {},
     "output_type": "execute_result"
    }
   ],
   "source": [
    "cross_val_score(pipeline_estimador, X=datos.drop('objetivo', axis=1), y=datos.objetivo, scoring='roc_auc', cv=5)"
   ]
  },
  {
   "cell_type": "markdown",
   "metadata": {},
   "source": [
    "La forma de usar `Pipeline` junto con `FeatureUnion` es la forma mas comun de usar pipelines. Sin embargo, existe una forma mas simplificada en la que no le asignamos nombres a los elementos."
   ]
  },
  {
   "cell_type": "code",
   "execution_count": 76,
   "metadata": {
    "collapsed": true
   },
   "outputs": [],
   "source": [
    "from sklearn.pipeline import make_pipeline, make_union"
   ]
  },
  {
   "cell_type": "code",
   "execution_count": 77,
   "metadata": {
    "collapsed": true
   },
   "outputs": [],
   "source": [
    "pipeline_simple = make_pipeline(\n",
    "    make_union(\n",
    "       pipeline_numerico,\n",
    "       pipeline_ordinal,\n",
    "       pipeline_texto,\n",
    "       pipeline_categorico,\n",
    "    ),\n",
    "    estimador\n",
    ")"
   ]
  },
  {
   "cell_type": "code",
   "execution_count": 78,
   "metadata": {},
   "outputs": [
    {
     "data": {
      "text/plain": [
       "Pipeline(memory=None,\n",
       "     steps=[('featureunion', FeatureUnion(n_jobs=1,\n",
       "       transformer_list=[('pipeline-1', Pipeline(memory=None,\n",
       "     steps=[('selector_numerico', <__main__.ColumnExtractor object at 0x7f389c7fc860>), ['transformador_numerico', Pipeline(memory=None,\n",
       "     steps=[('imputador', Imputer(axis=0, copy=True, m...ty='l2', random_state=None, solver='liblinear', tol=0.0001,\n",
       "          verbose=0, warm_start=False))])"
      ]
     },
     "execution_count": 78,
     "metadata": {},
     "output_type": "execute_result"
    }
   ],
   "source": [
    "pipeline_simple"
   ]
  },
  {
   "cell_type": "code",
   "execution_count": 79,
   "metadata": {},
   "outputs": [
    {
     "data": {
      "text/plain": [
       "array([ 0.53326733,  0.48934893,  0.52035204,  0.49464946,  0.47535354])"
      ]
     },
     "execution_count": 79,
     "metadata": {},
     "output_type": "execute_result"
    }
   ],
   "source": [
    "cross_val_score(pipeline_simple, X=datos.drop('objetivo', axis=1), y=datos.objetivo, scoring='roc_auc', cv=5)"
   ]
  },
  {
   "cell_type": "markdown",
   "metadata": {},
   "source": [
    "Para aquellos casos en los que los datos que tengamos nos permitan trabajar con DataFrames de pandas (datasets tabulares) podemos usar [sklearn-pandas](https://github.com/pandas-dev/sklearn-pandas) que hace el uso de pipelines de scikit-learn bastante mas sencillo."
   ]
  },
  {
   "cell_type": "code",
   "execution_count": 80,
   "metadata": {},
   "outputs": [
    {
     "name": "stdout",
     "output_type": "stream",
     "text": [
      "Requirement already satisfied: sklearn-pandas in /home/manuel/anaconda3/envs/data/lib/python3.6/site-packages\n",
      "Requirement already satisfied: scipy>=0.14 in /home/manuel/anaconda3/envs/data/lib/python3.6/site-packages (from sklearn-pandas)\n",
      "Requirement already satisfied: numpy>=1.6.1 in /home/manuel/anaconda3/envs/data/lib/python3.6/site-packages (from sklearn-pandas)\n",
      "Requirement already satisfied: scikit-learn>=0.15.0 in /home/manuel/anaconda3/envs/data/lib/python3.6/site-packages (from sklearn-pandas)\n",
      "Requirement already satisfied: pandas>=0.11.0 in /home/manuel/anaconda3/envs/data/lib/python3.6/site-packages (from sklearn-pandas)\n",
      "Requirement already satisfied: python-dateutil>=2 in /home/manuel/anaconda3/envs/data/lib/python3.6/site-packages (from pandas>=0.11.0->sklearn-pandas)\n",
      "Requirement already satisfied: pytz>=2011k in /home/manuel/anaconda3/envs/data/lib/python3.6/site-packages (from pandas>=0.11.0->sklearn-pandas)\n",
      "Requirement already satisfied: six>=1.5 in /home/manuel/anaconda3/envs/data/lib/python3.6/site-packages (from python-dateutil>=2->pandas>=0.11.0->sklearn-pandas)\n"
     ]
    }
   ],
   "source": [
    "!pip install sklearn-pandas"
   ]
  },
  {
   "cell_type": "code",
   "execution_count": 81,
   "metadata": {
    "collapsed": true
   },
   "outputs": [],
   "source": [
    "from sklearn_pandas import DataFrameMapper, cross_val_score as sklearn_pandas_cross_val_score"
   ]
  },
  {
   "cell_type": "code",
   "execution_count": 82,
   "metadata": {},
   "outputs": [
    {
     "data": {
      "text/html": [
       "<div>\n",
       "<style>\n",
       "    .dataframe thead tr:only-child th {\n",
       "        text-align: right;\n",
       "    }\n",
       "\n",
       "    .dataframe thead th {\n",
       "        text-align: left;\n",
       "    }\n",
       "\n",
       "    .dataframe tbody tr th {\n",
       "        vertical-align: top;\n",
       "    }\n",
       "</style>\n",
       "<table border=\"1\" class=\"dataframe\">\n",
       "  <thead>\n",
       "    <tr style=\"text-align: right;\">\n",
       "      <th></th>\n",
       "      <th>col_inexistente1</th>\n",
       "      <th>col2</th>\n",
       "      <th>col3</th>\n",
       "      <th>col_outliers</th>\n",
       "      <th>col_outliers2</th>\n",
       "      <th>col_categorica</th>\n",
       "      <th>col_ordinal</th>\n",
       "      <th>col_texto</th>\n",
       "      <th>objetivo</th>\n",
       "    </tr>\n",
       "  </thead>\n",
       "  <tbody>\n",
       "    <tr>\n",
       "      <th>0</th>\n",
       "      <td>59.0</td>\n",
       "      <td>52.0</td>\n",
       "      <td>2.232832</td>\n",
       "      <td>-50</td>\n",
       "      <td>0.771666</td>\n",
       "      <td>ratón</td>\n",
       "      <td>muy bien</td>\n",
       "      <td>Tenía en su casa una ama que pasaba de los cua...</td>\n",
       "      <td>1</td>\n",
       "    </tr>\n",
       "    <tr>\n",
       "      <th>1</th>\n",
       "      <td>31.0</td>\n",
       "      <td>74.0</td>\n",
       "      <td>0.906147</td>\n",
       "      <td>-5</td>\n",
       "      <td>1.068558</td>\n",
       "      <td>elefante</td>\n",
       "      <td>regular</td>\n",
       "      <td>El resto della concluían sayo de velarte, calz...</td>\n",
       "      <td>0</td>\n",
       "    </tr>\n",
       "    <tr>\n",
       "      <th>2</th>\n",
       "      <td>81.0</td>\n",
       "      <td>28.0</td>\n",
       "      <td>0.626750</td>\n",
       "      <td>-32</td>\n",
       "      <td>0.846396</td>\n",
       "      <td>ratón</td>\n",
       "      <td>muy mal</td>\n",
       "      <td>El resto della concluían sayo de velarte, calz...</td>\n",
       "      <td>0</td>\n",
       "    </tr>\n",
       "    <tr>\n",
       "      <th>3</th>\n",
       "      <td>34.0</td>\n",
       "      <td>16.0</td>\n",
       "      <td>0.816738</td>\n",
       "      <td>-84</td>\n",
       "      <td>0.637381</td>\n",
       "      <td>gato</td>\n",
       "      <td>mal</td>\n",
       "      <td>Una olla de algo más vaca que carnero, salpicó...</td>\n",
       "      <td>0</td>\n",
       "    </tr>\n",
       "    <tr>\n",
       "      <th>4</th>\n",
       "      <td>32.0</td>\n",
       "      <td>28.0</td>\n",
       "      <td>0.571131</td>\n",
       "      <td>65</td>\n",
       "      <td>4.540614</td>\n",
       "      <td>gato</td>\n",
       "      <td>bien</td>\n",
       "      <td>Tenía en su casa una ama que pasaba de los cua...</td>\n",
       "      <td>0</td>\n",
       "    </tr>\n",
       "  </tbody>\n",
       "</table>\n",
       "</div>"
      ],
      "text/plain": [
       "   col_inexistente1  col2      col3  col_outliers  col_outliers2  \\\n",
       "0              59.0  52.0  2.232832           -50       0.771666   \n",
       "1              31.0  74.0  0.906147            -5       1.068558   \n",
       "2              81.0  28.0  0.626750           -32       0.846396   \n",
       "3              34.0  16.0  0.816738           -84       0.637381   \n",
       "4              32.0  28.0  0.571131            65       4.540614   \n",
       "\n",
       "  col_categorica col_ordinal  \\\n",
       "0          ratón    muy bien   \n",
       "1       elefante     regular   \n",
       "2          ratón     muy mal   \n",
       "3           gato         mal   \n",
       "4           gato        bien   \n",
       "\n",
       "                                           col_texto  objetivo  \n",
       "0  Tenía en su casa una ama que pasaba de los cua...         1  \n",
       "1  El resto della concluían sayo de velarte, calz...         0  \n",
       "2  El resto della concluían sayo de velarte, calz...         0  \n",
       "3  Una olla de algo más vaca que carnero, salpicó...         0  \n",
       "4  Tenía en su casa una ama que pasaba de los cua...         0  "
      ]
     },
     "execution_count": 82,
     "metadata": {},
     "output_type": "execute_result"
    }
   ],
   "source": [
    "datos.head()"
   ]
  },
  {
   "cell_type": "code",
   "execution_count": 83,
   "metadata": {
    "collapsed": true
   },
   "outputs": [],
   "source": [
    "mapeador = DataFrameMapper([\n",
    "     (['col_inexistente1'], transformador_numerico),\n",
    "     (['col2'], transformador_numerico),\n",
    "     ([\"col3\"], transformador_numerico),\n",
    "    ([\"col_outliers\"], transformador_numerico),\n",
    "    ([\"col_outliers2\"], transformador_numerico),\n",
    "    (\"col_categorica\", transformador_categorico),\n",
    "    (\"col_ordinal\", transformador_ordinal),\n",
    "    (\"col_texto\", transformador_texto)\n",
    " ])"
   ]
  },
  {
   "cell_type": "code",
   "execution_count": 86,
   "metadata": {},
   "outputs": [
    {
     "data": {
      "text/plain": [
       "array([[-0.02123668, -0.02329583, -0.03793554, ...,  0.        ,\n",
       "         0.        ,  0.        ],\n",
       "       [-0.02947328, -0.01682422, -0.03832581, ...,  0.        ,\n",
       "         0.        ,  0.        ],\n",
       "       [-0.01476508, -0.03035577, -0.038408  , ...,  0.        ,\n",
       "         0.        ,  0.        ],\n",
       "       ..., \n",
       "       [-0.03300325, -0.02300167, -0.0383755 , ...,  0.        ,\n",
       "         0.        ,  0.        ],\n",
       "       [-0.01270593, -0.01094094, -0.03836877, ...,  0.        ,\n",
       "         0.        ,  0.19788701],\n",
       "       [-0.01094094, -0.02211918, -0.03823056, ...,  0.        ,\n",
       "         0.        ,  0.        ]])"
      ]
     },
     "execution_count": 86,
     "metadata": {},
     "output_type": "execute_result"
    }
   ],
   "source": [
    "mapeador.fit_transform(datos.copy())"
   ]
  },
  {
   "cell_type": "code",
   "execution_count": 87,
   "metadata": {},
   "outputs": [
    {
     "data": {
      "text/plain": [
       "[(['col_inexistente1'], Pipeline(memory=None,\n",
       "       steps=[('imputador', Imputer(axis=0, copy=True, missing_values='NaN', strategy='mean', verbose=0)), ('escalador', StandardScaler(copy=True, with_mean=True, with_std=True))])),\n",
       " (['col2'], Pipeline(memory=None,\n",
       "       steps=[('imputador', Imputer(axis=0, copy=True, missing_values='NaN', strategy='mean', verbose=0)), ('escalador', StandardScaler(copy=True, with_mean=True, with_std=True))])),\n",
       " (['col3'], Pipeline(memory=None,\n",
       "       steps=[('imputador', Imputer(axis=0, copy=True, missing_values='NaN', strategy='mean', verbose=0)), ('escalador', StandardScaler(copy=True, with_mean=True, with_std=True))])),\n",
       " (['col_outliers'], Pipeline(memory=None,\n",
       "       steps=[('imputador', Imputer(axis=0, copy=True, missing_values='NaN', strategy='mean', verbose=0)), ('escalador', StandardScaler(copy=True, with_mean=True, with_std=True))])),\n",
       " (['col_outliers2'], Pipeline(memory=None,\n",
       "       steps=[('imputador', Imputer(axis=0, copy=True, missing_values='NaN', strategy='mean', verbose=0)), ('escalador', StandardScaler(copy=True, with_mean=True, with_std=True))])),\n",
       " ('col_categorica',\n",
       "  BinarizadorCategorico(neg_label=0, pos_label=1, sparse_output=False)),\n",
       " ('col_ordinal', CodificadorCategorico()),\n",
       " ('col_texto',\n",
       "  TfidfVectorizer(analyzer='word', binary=False, decode_error='strict',\n",
       "          dtype=<class 'numpy.int64'>, encoding='utf-8', input='content',\n",
       "          lowercase=True, max_df=1.0, max_features=None, min_df=1,\n",
       "          ngram_range=(1, 1), norm='l2', preprocessor=None, smooth_idf=True,\n",
       "          stop_words=None, strip_accents=None, sublinear_tf=False,\n",
       "          token_pattern='(?u)\\\\b\\\\w\\\\w+\\\\b', tokenizer=None, use_idf=True,\n",
       "          vocabulary=None))]"
      ]
     },
     "execution_count": 87,
     "metadata": {},
     "output_type": "execute_result"
    }
   ],
   "source": [
    "mapeador.features"
   ]
  },
  {
   "cell_type": "code",
   "execution_count": 88,
   "metadata": {},
   "outputs": [
    {
     "data": {
      "text/plain": [
       "['col_inexistente1',\n",
       " 'col2',\n",
       " 'col3',\n",
       " 'col_outliers',\n",
       " 'col_outliers2',\n",
       " 'col_categorica_elefante',\n",
       " 'col_categorica_gato',\n",
       " 'col_categorica_perro',\n",
       " 'col_categorica_ratón',\n",
       " 'col_ordinal',\n",
       " 'col_texto_acordarme',\n",
       " 'col_texto_adarga',\n",
       " 'col_texto_algo',\n",
       " 'col_texto_alguna',\n",
       " 'col_texto_algún',\n",
       " 'col_texto_ama',\n",
       " 'col_texto_amigo',\n",
       " 'col_texto_antigua',\n",
       " 'col_texto_astillero',\n",
       " 'col_texto_así',\n",
       " 'col_texto_aunque',\n",
       " 'col_texto_autores',\n",
       " 'col_texto_añadidura',\n",
       " 'col_texto_años',\n",
       " 'col_texto_basta',\n",
       " 'col_texto_calzas',\n",
       " 'col_texto_campo',\n",
       " 'col_texto_carnero',\n",
       " 'col_texto_carnes',\n",
       " 'col_texto_casa',\n",
       " 'col_texto_caso',\n",
       " 'col_texto_caza',\n",
       " 'col_texto_cincuenta',\n",
       " 'col_texto_como',\n",
       " 'col_texto_complexión',\n",
       " 'col_texto_con',\n",
       " 'col_texto_concluían',\n",
       " 'col_texto_conjeturas',\n",
       " 'col_texto_consumían',\n",
       " 'col_texto_corredor',\n",
       " 'col_texto_cuarenta',\n",
       " 'col_texto_cuento',\n",
       " 'col_texto_cuyo',\n",
       " 'col_texto_de',\n",
       " 'col_texto_decir',\n",
       " 'col_texto_deja',\n",
       " 'col_texto_della',\n",
       " 'col_texto_deste',\n",
       " 'col_texto_diferencia',\n",
       " 'col_texto_domingos',\n",
       " 'col_texto_duelos',\n",
       " 'col_texto_dél',\n",
       " 'col_texto_días',\n",
       " 'col_texto_edad',\n",
       " 'col_texto_el',\n",
       " 'col_texto_en',\n",
       " 'col_texto_enjuto',\n",
       " 'col_texto_ensillaba',\n",
       " 'col_texto_entender',\n",
       " 'col_texto_entre',\n",
       " 'col_texto_era',\n",
       " 'col_texto_escriben',\n",
       " 'col_texto_esto',\n",
       " 'col_texto_fiestas',\n",
       " 'col_texto_fino',\n",
       " 'col_texto_flaco',\n",
       " 'col_texto_frisaba',\n",
       " 'col_texto_galgo',\n",
       " 'col_texto_gran',\n",
       " 'col_texto_ha',\n",
       " 'col_texto_hacienda',\n",
       " 'col_texto_hay',\n",
       " 'col_texto_hidalgo',\n",
       " 'col_texto_honraba',\n",
       " 'col_texto_importa',\n",
       " 'col_texto_la',\n",
       " 'col_texto_lanza',\n",
       " 'col_texto_las',\n",
       " 'col_texto_lentejas',\n",
       " 'col_texto_llama',\n",
       " 'col_texto_llegaba',\n",
       " 'col_texto_lo',\n",
       " 'col_texto_los',\n",
       " 'col_texto_lugar',\n",
       " 'col_texto_madrugador',\n",
       " 'col_texto_mancha',\n",
       " 'col_texto_mismo',\n",
       " 'col_texto_mozo',\n",
       " 'col_texto_mucho',\n",
       " 'col_texto_más',\n",
       " 'col_texto_narración',\n",
       " 'col_texto_no',\n",
       " 'col_texto_noches',\n",
       " 'col_texto_nombre',\n",
       " 'col_texto_nuestro',\n",
       " 'col_texto_olla',\n",
       " 'col_texto_palomino',\n",
       " 'col_texto_pantuflos',\n",
       " 'col_texto_para',\n",
       " 'col_texto_partes',\n",
       " 'col_texto_pasaba',\n",
       " 'col_texto_pero',\n",
       " 'col_texto_plaza',\n",
       " 'col_texto_poco',\n",
       " 'col_texto_podadera',\n",
       " 'col_texto_por',\n",
       " 'col_texto_punto',\n",
       " 'col_texto_que',\n",
       " 'col_texto_quebrantos',\n",
       " 'col_texto_quesada',\n",
       " 'col_texto_quieren',\n",
       " 'col_texto_quiero',\n",
       " 'col_texto_quijada',\n",
       " 'col_texto_quijana',\n",
       " 'col_texto_recia',\n",
       " 'col_texto_resto',\n",
       " 'col_texto_rocín',\n",
       " 'col_texto_rostro',\n",
       " 'col_texto_salga',\n",
       " 'col_texto_salpicón',\n",
       " 'col_texto_sayo',\n",
       " 'col_texto_se',\n",
       " 'col_texto_seco',\n",
       " 'col_texto_semana',\n",
       " 'col_texto_sobrenombre',\n",
       " 'col_texto_sobrina',\n",
       " 'col_texto_su',\n",
       " 'col_texto_sus',\n",
       " 'col_texto_sábados',\n",
       " 'col_texto_tenía',\n",
       " 'col_texto_tiempo',\n",
       " 'col_texto_tomaba',\n",
       " 'col_texto_tres',\n",
       " 'col_texto_un',\n",
       " 'col_texto_una',\n",
       " 'col_texto_vaca',\n",
       " 'col_texto_veinte',\n",
       " 'col_texto_velarte',\n",
       " 'col_texto_vellori',\n",
       " 'col_texto_velludo',\n",
       " 'col_texto_verdad',\n",
       " 'col_texto_verosímiles',\n",
       " 'col_texto_viernes',\n",
       " 'col_texto_vivía']"
      ]
     },
     "execution_count": 88,
     "metadata": {},
     "output_type": "execute_result"
    }
   ],
   "source": [
    "mapeador.transformed_names_"
   ]
  },
  {
   "cell_type": "code",
   "execution_count": 89,
   "metadata": {
    "collapsed": true
   },
   "outputs": [],
   "source": [
    "pipeline_estimador_pandas_sklearn = Pipeline([\n",
    "    ('procesador', mapeador),\n",
    "    ('estimador', estimador)\n",
    "])"
   ]
  },
  {
   "cell_type": "code",
   "execution_count": 90,
   "metadata": {},
   "outputs": [
    {
     "data": {
      "text/plain": [
       "array([ 0.53326733,  0.48934893,  0.52035204,  0.49464946,  0.47535354])"
      ]
     },
     "execution_count": 90,
     "metadata": {},
     "output_type": "execute_result"
    }
   ],
   "source": [
    "sklearn_pandas_cross_val_score(pipeline_estimador_pandas_sklearn, X=datos.drop('objetivo', axis=1).copy(),\n",
    "                               y=datos.objetivo, scoring='roc_auc', cv=5)"
   ]
  },
  {
   "cell_type": "code",
   "execution_count": null,
   "metadata": {
    "collapsed": true
   },
   "outputs": [],
   "source": []
  }
 ],
 "metadata": {
  "kernelspec": {
   "display_name": "Python 3",
   "language": "python",
   "name": "python3"
  },
  "language_info": {
   "codemirror_mode": {
    "name": "ipython",
    "version": 3
   },
   "file_extension": ".py",
   "mimetype": "text/x-python",
   "name": "python",
   "nbconvert_exporter": "python",
   "pygments_lexer": "ipython3",
   "version": "3.6.1"
  }
 },
 "nbformat": 4,
 "nbformat_minor": 2
}
