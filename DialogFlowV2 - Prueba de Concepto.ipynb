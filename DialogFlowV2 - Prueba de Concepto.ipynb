{
 "cells": [
  {
   "cell_type": "code",
   "execution_count": 3,
   "metadata": {},
   "outputs": [],
   "source": [
    "import dialogflow"
   ]
  },
  {
   "cell_type": "code",
   "execution_count": 26,
   "metadata": {},
   "outputs": [
    {
     "name": "stderr",
     "output_type": "stream",
     "text": [
      "\"export\" no se reconoce como un comando interno o externo,\n",
      "programa o archivo por lotes ejecutable.\n"
     ]
    }
   ],
   "source": [
    "! export GOOGLE_APPLICATION_CREDENTIALS=\"C:\\Byte\\IyD\\Chatbots\\dialogflow_v2_credentials\\bytebot-faq-demo-1-c9f35fbb1595.json\""
   ]
  },
  {
   "cell_type": "code",
   "execution_count": null,
   "metadata": {},
   "outputs": [],
   "source": [
    "#Funcionó activando el billing, etc, ver esta página\n",
    "#https://github.com/googleapis/dialogflow-python-client-v2"
   ]
  },
  {
   "cell_type": "code",
   "execution_count": 4,
   "metadata": {},
   "outputs": [],
   "source": [
    "intents_client = dialogflow.IntentsClient()"
   ]
  },
  {
   "cell_type": "code",
   "execution_count": 7,
   "metadata": {},
   "outputs": [],
   "source": [
    "parent = intents_client.project_agent_path(\"bytebot-faq-demo-1\")"
   ]
  },
  {
   "cell_type": "code",
   "execution_count": 9,
   "metadata": {},
   "outputs": [],
   "source": [
    "training_phrases = []"
   ]
  },
  {
   "cell_type": "code",
   "execution_count": 11,
   "metadata": {},
   "outputs": [],
   "source": [
    "part = dialogflow.types.Intent.TrainingPhrase.Part(text=\"prueba_training_phrases_part\")"
   ]
  },
  {
   "cell_type": "code",
   "execution_count": 12,
   "metadata": {},
   "outputs": [
    {
     "data": {
      "text/plain": [
       "text: \"prueba_training_phrases_part\""
      ]
     },
     "execution_count": 12,
     "metadata": {},
     "output_type": "execute_result"
    }
   ],
   "source": [
    "part"
   ]
  },
  {
   "cell_type": "code",
   "execution_count": 13,
   "metadata": {},
   "outputs": [],
   "source": [
    "training_phrase = dialogflow.types.Intent.TrainingPhrase(parts=[part])"
   ]
  },
  {
   "cell_type": "code",
   "execution_count": 14,
   "metadata": {},
   "outputs": [
    {
     "data": {
      "text/plain": [
       "parts {\n",
       "  text: \"prueba_training_phrases_part\"\n",
       "}"
      ]
     },
     "execution_count": 14,
     "metadata": {},
     "output_type": "execute_result"
    }
   ],
   "source": [
    "training_phrase"
   ]
  },
  {
   "cell_type": "code",
   "execution_count": 15,
   "metadata": {},
   "outputs": [],
   "source": [
    "training_phrases.append(training_phrase)"
   ]
  },
  {
   "cell_type": "code",
   "execution_count": 16,
   "metadata": {},
   "outputs": [],
   "source": [
    "text = dialogflow.types.Intent.Message.Text(text=\"message_texts\")"
   ]
  },
  {
   "cell_type": "code",
   "execution_count": 17,
   "metadata": {},
   "outputs": [
    {
     "data": {
      "text/plain": [
       "text: \"m\"\n",
       "text: \"e\"\n",
       "text: \"s\"\n",
       "text: \"s\"\n",
       "text: \"a\"\n",
       "text: \"g\"\n",
       "text: \"e\"\n",
       "text: \"_\"\n",
       "text: \"t\"\n",
       "text: \"e\"\n",
       "text: \"x\"\n",
       "text: \"t\"\n",
       "text: \"s\""
      ]
     },
     "execution_count": 17,
     "metadata": {},
     "output_type": "execute_result"
    }
   ],
   "source": [
    "text"
   ]
  },
  {
   "cell_type": "code",
   "execution_count": 18,
   "metadata": {},
   "outputs": [],
   "source": [
    "message = dialogflow.types.Intent.Message(text=text)"
   ]
  },
  {
   "cell_type": "code",
   "execution_count": 19,
   "metadata": {
    "scrolled": true
   },
   "outputs": [
    {
     "data": {
      "text/plain": [
       "text {\n",
       "  text: \"m\"\n",
       "  text: \"e\"\n",
       "  text: \"s\"\n",
       "  text: \"s\"\n",
       "  text: \"a\"\n",
       "  text: \"g\"\n",
       "  text: \"e\"\n",
       "  text: \"_\"\n",
       "  text: \"t\"\n",
       "  text: \"e\"\n",
       "  text: \"x\"\n",
       "  text: \"t\"\n",
       "  text: \"s\"\n",
       "}"
      ]
     },
     "execution_count": 19,
     "metadata": {},
     "output_type": "execute_result"
    }
   ],
   "source": [
    "message"
   ]
  },
  {
   "cell_type": "code",
   "execution_count": 20,
   "metadata": {},
   "outputs": [],
   "source": [
    "intent = dialogflow.types.Intent(\n",
    "        display_name=\"intent_desde_apiv2_python_client\",\n",
    "        training_phrases=training_phrases,\n",
    "        messages=[message])"
   ]
  },
  {
   "cell_type": "code",
   "execution_count": 21,
   "metadata": {},
   "outputs": [],
   "source": [
    "response = intents_client.create_intent(parent, intent)"
   ]
  },
  {
   "cell_type": "code",
   "execution_count": 22,
   "metadata": {
    "scrolled": true
   },
   "outputs": [
    {
     "data": {
      "text/plain": [
       "name: \"projects/bytebot-faq-demo-1/agent/intents/547501cf-8015-4ead-9c66-b38a513ce1c4\"\n",
       "display_name: \"intent_desde_apiv2_python_client\"\n",
       "priority: 500000\n",
       "messages {\n",
       "  text {\n",
       "    text: \"m\"\n",
       "    text: \"e\"\n",
       "    text: \"s\"\n",
       "    text: \"s\"\n",
       "    text: \"a\"\n",
       "    text: \"g\"\n",
       "    text: \"e\"\n",
       "    text: \"_\"\n",
       "    text: \"t\"\n",
       "    text: \"e\"\n",
       "    text: \"x\"\n",
       "    text: \"t\"\n",
       "    text: \"s\"\n",
       "  }\n",
       "}"
      ]
     },
     "execution_count": 22,
     "metadata": {},
     "output_type": "execute_result"
    }
   ],
   "source": [
    "response"
   ]
  },
  {
   "cell_type": "code",
   "execution_count": 23,
   "metadata": {},
   "outputs": [
    {
     "name": "stdout",
     "output_type": "stream",
     "text": [
      "Intent created: name: \"projects/bytebot-faq-demo-1/agent/intents/547501cf-8015-4ead-9c66-b38a513ce1c4\"\n",
      "display_name: \"intent_desde_apiv2_python_client\"\n",
      "priority: 500000\n",
      "messages {\n",
      "  text {\n",
      "    text: \"m\"\n",
      "    text: \"e\"\n",
      "    text: \"s\"\n",
      "    text: \"s\"\n",
      "    text: \"a\"\n",
      "    text: \"g\"\n",
      "    text: \"e\"\n",
      "    text: \"_\"\n",
      "    text: \"t\"\n",
      "    text: \"e\"\n",
      "    text: \"x\"\n",
      "    text: \"t\"\n",
      "    text: \"s\"\n",
      "  }\n",
      "}\n",
      "\n"
     ]
    }
   ],
   "source": [
    "print('Intent created: {}'.format(response))"
   ]
  },
  {
   "cell_type": "markdown",
   "metadata": {},
   "source": [
    "## Creación de la función que separa la oración"
   ]
  },
  {
   "cell_type": "code",
   "execution_count": 188,
   "metadata": {},
   "outputs": [],
   "source": [
    "question = \"como hago cualquier cosa en mi cuenta\"\n",
    "parameter = \"sueldo\"\n",
    "parameterlen = len(parameter)"
   ]
  },
  {
   "cell_type": "code",
   "execution_count": null,
   "metadata": {},
   "outputs": [],
   "source": []
  },
  {
   "cell_type": "code",
   "execution_count": 189,
   "metadata": {},
   "outputs": [],
   "source": [
    "#Dividiendo la oración en 3 partes, cuya estructura sería la siguiente: \n",
    "#question[0] = \"Primera parte de la pregunta\"\n",
    "#question[1] = \"Segunda parte de la pregunta, contiene solo el parámetro el cual será considerado como producto\"\n",
    "#question[2] = \"Tercera parte de la pregunta\""
   ]
  },
  {
   "cell_type": "code",
   "execution_count": 190,
   "metadata": {
    "scrolled": true
   },
   "outputs": [],
   "source": [
    "def split_question(question, parameter):\n",
    "    question[:question.find(parameter)] + question[question.find(parameter):question.find(parameter) + parameterlen] + question[question.find(parameter) + parameterlen :]\n",
    "    return [question[:question.find(parameter)], question[question.find(parameter):question.find(parameter) + parameterlen], question[question.find(parameter) + parameterlen :]]"
   ]
  },
  {
   "cell_type": "code",
   "execution_count": 191,
   "metadata": {},
   "outputs": [
    {
     "data": {
      "text/plain": [
       "['como hago cualquier cosa en mi cuent',\n",
       " '',\n",
       " 'hago cualquier cosa en mi cuenta']"
      ]
     },
     "execution_count": 191,
     "metadata": {},
     "output_type": "execute_result"
    }
   ],
   "source": [
    "split_question(question, parameter)"
   ]
  },
  {
   "cell_type": "markdown",
   "metadata": {},
   "source": [
    "#### Fin de la creación de la función que separa la oración"
   ]
  },
  {
   "cell_type": "markdown",
   "metadata": {},
   "source": [
    "## Creación de intents mediante Dialogflow V2 - Original"
   ]
  },
  {
   "cell_type": "markdown",
   "metadata": {},
   "source": [
    "La agregación de entities o parámetros cuando se crean las frases de entrenamiento no es automático, tiene que hacerse manual."
   ]
  },
  {
   "cell_type": "code",
   "execution_count": 179,
   "metadata": {},
   "outputs": [],
   "source": [
    "project_id = \"bytebot-faq-demo-1\"\n",
    "display_name = \"textintentv2_28\"\n",
    "training_phrases_parts = [\"Qué es una cuenta {@producto:sueldo} bimoneda\", \"Dime que es una cuenta sueldo por favor\"]\n",
    "message_texts = [\"Nosé papu\", \"Esto es una prueba :D\", \"Varias respuestas desde el API\", \"$producto\"]"
   ]
  },
  {
   "cell_type": "code",
   "execution_count": 180,
   "metadata": {},
   "outputs": [],
   "source": [
    "def create_intent(project_id, display_name, training_phrases_parts,\n",
    "                  message_texts):\n",
    "    \"\"\"Create an intent of the given intent type.\"\"\"\n",
    "    intents_client = dialogflow.IntentsClient()\n",
    "\n",
    "    parent = intents_client.project_agent_path(project_id)\n",
    "    training_phrases = []\n",
    "    for training_phrases_part in training_phrases_parts:\n",
    "        \n",
    "        part2 = dialogflow.types.Intent.TrainingPhrase.Part(\n",
    "            text=training_phrases_part, entity_type=\"@producto\", alias=\"producto\", user_defined = True)\n",
    "\n",
    "        # Here we create a new training phrase for each provided part.\n",
    "        training_phrase = dialogflow.types.Intent.TrainingPhrase(parts=[part2])\n",
    "        training_phrases.append(training_phrase)\n",
    "\n",
    "    text = dialogflow.types.Intent.Message.Text(text=message_texts)\n",
    "    message = dialogflow.types.Intent.Message(text=text)\n",
    "\n",
    "    intent = dialogflow.types.Intent(\n",
    "        display_name=display_name,\n",
    "        training_phrases=training_phrases,\n",
    "        messages=[message])\n",
    "\n",
    "    response = intents_client.create_intent(parent, intent)\n",
    "\n",
    "    print('Intent created: {}'.format(response))"
   ]
  },
  {
   "cell_type": "code",
   "execution_count": 181,
   "metadata": {},
   "outputs": [
    {
     "name": "stdout",
     "output_type": "stream",
     "text": [
      "Intent created: name: \"projects/bytebot-faq-demo-1/agent/intents/2724c91d-5477-4a1e-a520-7afd57912244\"\n",
      "display_name: \"textintentv2_28\"\n",
      "priority: 500000\n",
      "messages {\n",
      "  text {\n",
      "    text: \"Nos\\303\\251 papu\"\n",
      "    text: \"Esto es una prueba :D\"\n",
      "    text: \"Varias respuestas desde el API\"\n",
      "    text: \"$producto\"\n",
      "  }\n",
      "}\n",
      "\n"
     ]
    }
   ],
   "source": [
    "create_intent(project_id, display_name, training_phrases_parts,message_texts)"
   ]
  },
  {
   "cell_type": "markdown",
   "metadata": {},
   "source": [
    "## Creación de intents mediante Dialogflow V2 - parámetros en frase de entrenamiento manual"
   ]
  },
  {
   "cell_type": "code",
   "execution_count": 192,
   "metadata": {},
   "outputs": [],
   "source": [
    "project_id = \"bytebot-faq-demo-1\"\n",
    "display_name = \"test_01\"\n",
    "training_phrases_parts = [\"Qué es una cuenta sueldo bimoneda\"]\n",
    "message_texts = [\"Nosé papu\", \"Esto es una prueba :D\", \"Varias respuestas desde el API\", \"$producto\"]"
   ]
  },
  {
   "cell_type": "code",
   "execution_count": 194,
   "metadata": {},
   "outputs": [],
   "source": [
    "def create_intent(project_id, display_name, training_phrases_parts,\n",
    "                  message_texts):\n",
    "    \"\"\"Create an intent of the given intent type.\"\"\"\n",
    "    intents_client = dialogflow.IntentsClient()\n",
    "\n",
    "    parent = intents_client.project_agent_path(project_id)\n",
    "    training_phrases = []\n",
    "    for training_phrases_part in training_phrases_parts:\n",
    "        part1 = dialogflow.types.Intent.TrainingPhrase.Part(\n",
    "            text=split_question(training_phrases_part, \"sueldo\")[0])\n",
    "        \n",
    "        part2 = dialogflow.types.Intent.TrainingPhrase.Part(\n",
    "            text=split_question(training_phrases_part, \"sueldo\")[1], entity_type=\"@producto\", alias=\"producto\")\n",
    "        \n",
    "        part3 = dialogflow.types.Intent.TrainingPhrase.Part(\n",
    "            text=split_question(training_phrases_part, \"sueldo\")[2])\n",
    "        \n",
    "        # Here we create a new training phrase for each provided part.\n",
    "        training_phrase = dialogflow.types.Intent.TrainingPhrase(parts=[part1, part2, part3])\n",
    "        training_phrases.append(training_phrase)\n",
    "\n",
    "    text = dialogflow.types.Intent.Message.Text(text=message_texts)\n",
    "    message = dialogflow.types.Intent.Message(text=text)\n",
    "\n",
    "    intent = dialogflow.types.Intent(\n",
    "        display_name=display_name,\n",
    "        training_phrases=training_phrases,\n",
    "        messages=[message],\n",
    "        webhook_state=True)\n",
    "\n",
    "    response = intents_client.create_intent(parent, intent)\n",
    "\n",
    "    print('Intent created: {}'.format(response))"
   ]
  },
  {
   "cell_type": "code",
   "execution_count": 197,
   "metadata": {},
   "outputs": [],
   "source": [
    "project_id = \"bytebot-faq-demo-1\"\n",
    "display_name = \"test_02\"\n",
    "training_phrases_parts = [\"¿Mensualmente recibo estados de cuenta?\"]\n",
    "message_texts = [\"Nosé papu\", \"Esto es una prueba :D\", \"Varias respuestas desde el API\", \"$producto\"]"
   ]
  },
  {
   "cell_type": "code",
   "execution_count": 200,
   "metadata": {},
   "outputs": [],
   "source": [
    "def create_intent_2(project_id, display_name, training_phrases_parts,\n",
    "                  message_texts):\n",
    "    \"\"\"Create an intent of the given intent type.\"\"\"\n",
    "    intents_client = dialogflow.IntentsClient()\n",
    "\n",
    "    parent = intents_client.project_agent_path(project_id)\n",
    "    training_phrases = []\n",
    "    for training_phrases_part in training_phrases_parts:\n",
    "        part1 = dialogflow.types.Intent.TrainingPhrase.Part(\n",
    "            text=training_phrases_part)\n",
    "        \n",
    "        \n",
    "        \n",
    "        # Here we create a new training phrase for each provided part.\n",
    "        training_phrase = dialogflow.types.Intent.TrainingPhrase(parts=[part1])\n",
    "        training_phrases.append(training_phrase)\n",
    "\n",
    "    text = dialogflow.types.Intent.Message.Text(text=message_texts)\n",
    "    message = dialogflow.types.Intent.Message(text=text)\n",
    "\n",
    "    intent = dialogflow.types.Intent(\n",
    "        display_name=display_name,\n",
    "        training_phrases=training_phrases,\n",
    "        messages=[message],\n",
    "        webhook_state=True)\n",
    "\n",
    "    response = intents_client.create_intent(parent, intent)\n",
    "\n",
    "    print('Intent created: {}'.format(response))"
   ]
  },
  {
   "cell_type": "code",
   "execution_count": null,
   "metadata": {},
   "outputs": [],
   "source": []
  },
  {
   "cell_type": "code",
   "execution_count": 195,
   "metadata": {
    "scrolled": true
   },
   "outputs": [
    {
     "name": "stdout",
     "output_type": "stream",
     "text": [
      "Intent created: name: \"projects/bytebot-faq-demo-1/agent/intents/bf0ef119-9a72-4f6f-b193-21b69e457791\"\n",
      "display_name: \"test_01\"\n",
      "priority: 500000\n",
      "webhook_state: WEBHOOK_STATE_ENABLED\n",
      "messages {\n",
      "  text {\n",
      "    text: \"Nos\\303\\251 papu\"\n",
      "    text: \"Esto es una prueba :D\"\n",
      "    text: \"Varias respuestas desde el API\"\n",
      "    text: \"$producto\"\n",
      "  }\n",
      "}\n",
      "\n"
     ]
    }
   ],
   "source": [
    "create_intent(project_id, display_name, training_phrases_parts,message_texts)"
   ]
  },
  {
   "cell_type": "code",
   "execution_count": 201,
   "metadata": {
    "scrolled": true
   },
   "outputs": [
    {
     "name": "stdout",
     "output_type": "stream",
     "text": [
      "Intent created: name: \"projects/bytebot-faq-demo-1/agent/intents/06021ee3-a86b-4bdc-beb0-41bafe047ce3\"\n",
      "display_name: \"test_02\"\n",
      "priority: 500000\n",
      "webhook_state: WEBHOOK_STATE_ENABLED\n",
      "messages {\n",
      "  text {\n",
      "    text: \"Nos\\303\\251 papu\"\n",
      "    text: \"Esto es una prueba :D\"\n",
      "    text: \"Varias respuestas desde el API\"\n",
      "    text: \"$producto\"\n",
      "  }\n",
      "}\n",
      "\n"
     ]
    }
   ],
   "source": [
    "create_intent_2(project_id, display_name, training_phrases_parts,message_texts)"
   ]
  },
  {
   "cell_type": "code",
   "execution_count": null,
   "metadata": {},
   "outputs": [],
   "source": []
  },
  {
   "cell_type": "code",
   "execution_count": null,
   "metadata": {},
   "outputs": [],
   "source": []
  },
  {
   "cell_type": "code",
   "execution_count": 205,
   "metadata": {},
   "outputs": [],
   "source": [
    "queryResult =  {\n",
    "    \"queryText\": \"¿Mensualmente recibo estados de cuenta?\",\n",
    "    \"parameters\": {},\n",
    "    \"allRequiredParamsPresent\": True,\n",
    "    \"fulfillmentMessages\": [\n",
    "      {\n",
    "        \"text\": {\n",
    "          \"text\": [\n",
    "            \"\"\n",
    "          ]\n",
    "        }\n",
    "      }\n",
    "    ],\n",
    "    \"outputContexts\": [\n",
    "      {\n",
    "        \"name\": \"projects/bytebot-faq-demo-1/agent/sessions/30739716-36e5-8e8b-1758-584c5419e3f1/contexts/context_name\",\n",
    "        \"lifespanCount\": 3,\n",
    "        \"parameters\": {\n",
    "          \"pregunta\": \"¿Mensualmente recibo estados de cuenta?\"\n",
    "        }\n",
    "      },\n",
    "      {\n",
    "        \"name\": \"projects/bytebot-faq-demo-1/agent/sessions/30739716-36e5-8e8b-1758-584c5419e3f1/contexts/requiere_parametro\",\n",
    "        \"lifespanCount\": 5\n",
    "      }\n",
    "    ],\n",
    "    \"intent\": {\n",
    "      \"name\": \"projects/bytebot-faq-demo-1/agent/intents/bb3a59ba-58df-40ef-ac96-ecd45adb3949\",\n",
    "      \"displayName\": \"intent.4.facil\"\n",
    "    },\n",
    "    \"intentDetectionConfidence\": 0.6666667,\n",
    "    \"languageCode\": \"es\"\n",
    "  }"
   ]
  },
  {
   "cell_type": "code",
   "execution_count": 218,
   "metadata": {},
   "outputs": [
    {
     "data": {
      "text/plain": [
       "'¿Mensualmente recibo estados de cuenta?'"
      ]
     },
     "execution_count": 218,
     "metadata": {},
     "output_type": "execute_result"
    }
   ],
   "source": [
    "outputContexts = queryResult.get(\"outputContexts\")\n",
    "for element in outputContexts:\n",
    "    if element.get(\"name\").find(\"context_name\"):\n",
    "        pregunta = element.get(\"parameters\").get(\"pregunta\")\n",
    "        break\n",
    "        \n",
    "pregunta\n",
    "    "
   ]
  },
  {
   "cell_type": "code",
   "execution_count": 223,
   "metadata": {},
   "outputs": [
    {
     "data": {
      "text/plain": [
       "True"
      ]
     },
     "execution_count": 223,
     "metadata": {},
     "output_type": "execute_result"
    }
   ],
   "source": [
    "element.get(\"parameters\").get(\"pregunsta\") == None"
   ]
  },
  {
   "cell_type": "code",
   "execution_count": 210,
   "metadata": {},
   "outputs": [
    {
     "data": {
      "text/plain": [
       "-1"
      ]
     },
     "execution_count": 210,
     "metadata": {},
     "output_type": "execute_result"
    }
   ],
   "source": [
    "intent = queryResult.get(\"intent\")\n",
    "intentDisplayName = intent.get(\"displayName\")\n",
    "intentDisplayName\n",
    "\n",
    "intentDisplayName.find(\"unico\")"
   ]
  },
  {
   "cell_type": "code",
   "execution_count": null,
   "metadata": {},
   "outputs": [],
   "source": []
  },
  {
   "cell_type": "code",
   "execution_count": 281,
   "metadata": {},
   "outputs": [],
   "source": [
    "a = \"intent_0.ganadora.unico\""
   ]
  },
  {
   "cell_type": "code",
   "execution_count": 270,
   "metadata": {},
   "outputs": [],
   "source": [
    "import re\n",
    "\n"
   ]
  },
  {
   "cell_type": "code",
   "execution_count": 230,
   "metadata": {},
   "outputs": [],
   "source": [
    "s = 'asdf=5;iwantthis123jasd'\n"
   ]
  },
  {
   "cell_type": "code",
   "execution_count": 272,
   "metadata": {},
   "outputs": [],
   "source": [
    "result = re.search('intent(.*)unico', a)\n"
   ]
  },
  {
   "cell_type": "code",
   "execution_count": 274,
   "metadata": {},
   "outputs": [],
   "source": [
    "def find_between( s, first, last ):\n",
    "    try:\n",
    "        start = s.index( first ) + len( first )\n",
    "        end = s.index( last, start )\n",
    "        return s[start:end]\n",
    "    except ValueError:\n",
    "        return \"\"\n"
   ]
  },
  {
   "cell_type": "code",
   "execution_count": 285,
   "metadata": {
    "scrolled": true
   },
   "outputs": [
    {
     "data": {
      "text/plain": [
       "'ganadora'"
      ]
     },
     "execution_count": 285,
     "metadata": {},
     "output_type": "execute_result"
    }
   ],
   "source": [
    "find_between(a,\".\",\".unico\")"
   ]
  },
  {
   "cell_type": "code",
   "execution_count": 280,
   "metadata": {},
   "outputs": [
    {
     "data": {
      "text/plain": [
       "6"
      ]
     },
     "execution_count": 280,
     "metadata": {},
     "output_type": "execute_result"
    }
   ],
   "source": [
    "a.index( \".\" )"
   ]
  }
 ],
 "metadata": {
  "kernelspec": {
   "display_name": "Python 3",
   "language": "python",
   "name": "python3"
  },
  "language_info": {
   "codemirror_mode": {
    "name": "ipython",
    "version": 3
   },
   "file_extension": ".py",
   "mimetype": "text/x-python",
   "name": "python",
   "nbconvert_exporter": "python",
   "pygments_lexer": "ipython3",
   "version": "3.6.6"
  }
 },
 "nbformat": 4,
 "nbformat_minor": 2
}
