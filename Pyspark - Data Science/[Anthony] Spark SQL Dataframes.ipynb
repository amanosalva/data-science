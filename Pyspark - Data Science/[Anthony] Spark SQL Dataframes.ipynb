{
 "cells": [
  {
   "cell_type": "code",
   "execution_count": 18,
   "metadata": {},
   "outputs": [
    {
     "data": {
      "text/html": [
       "\n",
       "<style>\n",
       "    div#notebook-container    { width: 95%; }\n",
       "    div#menubar-container     { width: 65%; }\n",
       "    div#maintoolbar-container { width: 99%; }\n",
       "</style>\n"
      ],
      "text/plain": [
       "<IPython.core.display.HTML object>"
      ]
     },
     "metadata": {},
     "output_type": "display_data"
    }
   ],
   "source": [
    "from IPython.display import display, HTML\n",
    "\n",
    "display(HTML(data=\"\"\"\n",
    "<style>\n",
    "    div#notebook-container    { width: 95%; }\n",
    "    div#menubar-container     { width: 65%; }\n",
    "    div#maintoolbar-container { width: 99%; }\n",
    "</style>\n",
    "\"\"\"))"
   ]
  },
  {
   "cell_type": "markdown",
   "metadata": {},
   "source": [
    "## Spark SQL - Dataframes\n",
    "##### Programa de Especialización en Ciencia de Datos - Hadoop/Spark\n",
    "Anthony Manosalva López"
   ]
  },
  {
   "cell_type": "markdown",
   "metadata": {},
   "source": [
    "Para revisar la librería en la cual nos encontramos: **pwd**"
   ]
  },
  {
   "cell_type": "code",
   "execution_count": 8,
   "metadata": {},
   "outputs": [
    {
     "data": {
      "text/plain": [
       "'/home/hduser/anthony_manosalva'"
      ]
     },
     "execution_count": 8,
     "metadata": {},
     "output_type": "execute_result"
    }
   ],
   "source": [
    "pwd"
   ]
  },
  {
   "cell_type": "markdown",
   "metadata": {},
   "source": [
    "### Paso 1: Definimos la importación de variables"
   ]
  },
  {
   "cell_type": "code",
   "execution_count": 4,
   "metadata": {},
   "outputs": [],
   "source": [
    "from pyspark.sql import SparkSession\n",
    "spark = SparkSession.Builder().appName(\"Prueba1\").getOrCreate()"
   ]
  },
  {
   "cell_type": "markdown",
   "metadata": {},
   "source": [
    "### Generación de Dataframes"
   ]
  },
  {
   "cell_type": "markdown",
   "metadata": {},
   "source": [
    "#### Importando desde un archivo JSON"
   ]
  },
  {
   "cell_type": "code",
   "execution_count": 5,
   "metadata": {},
   "outputs": [],
   "source": [
    "df_json = spark.read.json(\"2015-summary.json\")"
   ]
  },
  {
   "cell_type": "code",
   "execution_count": 7,
   "metadata": {},
   "outputs": [
    {
     "name": "stdout",
     "output_type": "stream",
     "text": [
      "+-----------------+-------------------+-----+\n",
      "|DEST_COUNTRY_NAME|ORIGIN_COUNTRY_NAME|count|\n",
      "+-----------------+-------------------+-----+\n",
      "|    United States|            Romania|   15|\n",
      "|    United States|            Croatia|    1|\n",
      "|    United States|            Ireland|  344|\n",
      "|            Egypt|      United States|   15|\n",
      "|    United States|              India|   62|\n",
      "+-----------------+-------------------+-----+\n",
      "only showing top 5 rows\n",
      "\n"
     ]
    }
   ],
   "source": [
    "df_json.show(5)"
   ]
  },
  {
   "cell_type": "markdown",
   "metadata": {},
   "source": [
    "Verificando el tipo de dato de nuestra variable creada, es un DataFrame"
   ]
  },
  {
   "cell_type": "code",
   "execution_count": 9,
   "metadata": {},
   "outputs": [
    {
     "data": {
      "text/plain": [
       "pyspark.sql.dataframe.DataFrame"
      ]
     },
     "execution_count": 9,
     "metadata": {},
     "output_type": "execute_result"
    }
   ],
   "source": [
    "type(df_json)"
   ]
  },
  {
   "cell_type": "markdown",
   "metadata": {},
   "source": [
    "#### Importando desde un archivo CSV"
   ]
  },
  {
   "cell_type": "code",
   "execution_count": 10,
   "metadata": {},
   "outputs": [],
   "source": [
    "df_csv = spark.read.csv(\"2015-summary.csv\", header = True)"
   ]
  },
  {
   "cell_type": "code",
   "execution_count": 11,
   "metadata": {
    "scrolled": true
   },
   "outputs": [
    {
     "name": "stdout",
     "output_type": "stream",
     "text": [
      "+-----------------+-------------------+-----+\n",
      "|DEST_COUNTRY_NAME|ORIGIN_COUNTRY_NAME|count|\n",
      "+-----------------+-------------------+-----+\n",
      "|    United States|            Romania|   15|\n",
      "|    United States|            Croatia|    1|\n",
      "|    United States|            Ireland|  344|\n",
      "|            Egypt|      United States|   15|\n",
      "|    United States|              India|   62|\n",
      "+-----------------+-------------------+-----+\n",
      "only showing top 5 rows\n",
      "\n"
     ]
    }
   ],
   "source": [
    "df_csv.show(5)"
   ]
  },
  {
   "cell_type": "code",
   "execution_count": 12,
   "metadata": {},
   "outputs": [
    {
     "data": {
      "text/plain": [
       "pyspark.sql.dataframe.DataFrame"
      ]
     },
     "execution_count": 12,
     "metadata": {},
     "output_type": "execute_result"
    }
   ],
   "source": [
    "type(df_csv)"
   ]
  },
  {
   "cell_type": "markdown",
   "metadata": {},
   "source": [
    "#### Importando desde una archivo de TEXTO"
   ]
  },
  {
   "cell_type": "code",
   "execution_count": 13,
   "metadata": {},
   "outputs": [],
   "source": [
    "df_text = spark.read.text(\"salario (1).txt\")"
   ]
  },
  {
   "cell_type": "code",
   "execution_count": 14,
   "metadata": {},
   "outputs": [
    {
     "name": "stdout",
     "output_type": "stream",
     "text": [
      "+--------------------+\n",
      "|               value|\n",
      "+--------------------+\n",
      "|rank,discipline,y...|\n",
      "|Prof,B,19,18,Male...|\n",
      "|Prof,B,20,16,Male...|\n",
      "|AsstProf,B,4,3,Ma...|\n",
      "|Prof,B,45,39,Male...|\n",
      "|Prof,B,40,41,Male...|\n",
      "|AssocProf,B,6,6,M...|\n",
      "|Prof,B,30,23,Male...|\n",
      "|Prof,B,45,45,Male...|\n",
      "|Prof,B,21,20,Male...|\n",
      "|Prof,B,18,18,Fema...|\n",
      "|AssocProf,B,12,8,...|\n",
      "|AsstProf,B,7,2,Ma...|\n",
      "|AsstProf,B,1,1,Ma...|\n",
      "|AsstProf,B,2,0,Ma...|\n",
      "|Prof,B,20,18,Male...|\n",
      "|Prof,B,12,3,Male ...|\n",
      "|Prof,B,19,20,Male...|\n",
      "|Prof,A,38,34,Male...|\n",
      "|Prof,A,37,23,Male...|\n",
      "+--------------------+\n",
      "only showing top 20 rows\n",
      "\n"
     ]
    }
   ],
   "source": [
    "df_text.show()"
   ]
  },
  {
   "cell_type": "markdown",
   "metadata": {},
   "source": [
    "#### Importando desde un fichero PARKET"
   ]
  },
  {
   "cell_type": "code",
   "execution_count": 15,
   "metadata": {},
   "outputs": [],
   "source": [
    "df_parquet = spark.read.parquet(\"part-r-00000-1a9822ba-b8fb-4d8e-844a-ea30d0801b9e.gz.parquet\")"
   ]
  },
  {
   "cell_type": "code",
   "execution_count": 16,
   "metadata": {
    "scrolled": true
   },
   "outputs": [
    {
     "name": "stdout",
     "output_type": "stream",
     "text": [
      "+-----------------+-------------------+-----+\n",
      "|DEST_COUNTRY_NAME|ORIGIN_COUNTRY_NAME|count|\n",
      "+-----------------+-------------------+-----+\n",
      "|    United States|            Romania|    1|\n",
      "|    United States|            Ireland|  264|\n",
      "|    United States|              India|   69|\n",
      "|            Egypt|      United States|   24|\n",
      "|Equatorial Guinea|      United States|    1|\n",
      "+-----------------+-------------------+-----+\n",
      "only showing top 5 rows\n",
      "\n"
     ]
    }
   ],
   "source": [
    "df_parquet.show(5)"
   ]
  },
  {
   "cell_type": "markdown",
   "metadata": {},
   "source": [
    "#### Creación desde el área de trabajo"
   ]
  },
  {
   "cell_type": "code",
   "execution_count": 19,
   "metadata": {},
   "outputs": [],
   "source": [
    "df_range = spark.range(100).toDF(\"number\")"
   ]
  },
  {
   "cell_type": "code",
   "execution_count": 20,
   "metadata": {},
   "outputs": [
    {
     "name": "stdout",
     "output_type": "stream",
     "text": [
      "+------+\n",
      "|number|\n",
      "+------+\n",
      "|     0|\n",
      "|     1|\n",
      "|     2|\n",
      "|     3|\n",
      "|     4|\n",
      "+------+\n",
      "only showing top 5 rows\n",
      "\n"
     ]
    }
   ],
   "source": [
    "df_range.show(5)"
   ]
  },
  {
   "cell_type": "markdown",
   "metadata": {},
   "source": [
    "#### Usando Pandas y Numpy"
   ]
  },
  {
   "cell_type": "code",
   "execution_count": 22,
   "metadata": {
    "scrolled": false
   },
   "outputs": [
    {
     "data": {
      "text/html": [
       "<div>\n",
       "<style scoped>\n",
       "    .dataframe tbody tr th:only-of-type {\n",
       "        vertical-align: middle;\n",
       "    }\n",
       "\n",
       "    .dataframe tbody tr th {\n",
       "        vertical-align: top;\n",
       "    }\n",
       "\n",
       "    .dataframe thead th {\n",
       "        text-align: right;\n",
       "    }\n",
       "</style>\n",
       "<table border=\"1\" class=\"dataframe\">\n",
       "  <thead>\n",
       "    <tr style=\"text-align: right;\">\n",
       "      <th></th>\n",
       "      <th>ID</th>\n",
       "      <th>edad</th>\n",
       "      <th>meses</th>\n",
       "      <th>max_ant</th>\n",
       "      <th>ingreso</th>\n",
       "      <th>score</th>\n",
       "      <th>tipo_vivienda</th>\n",
       "      <th>zona</th>\n",
       "      <th>nivel</th>\n",
       "      <th>riesgo</th>\n",
       "      <th>Unnamed: 10</th>\n",
       "      <th>Unnamed: 11</th>\n",
       "      <th>Unnamed: 12</th>\n",
       "      <th>Unnamed: 13</th>\n",
       "    </tr>\n",
       "  </thead>\n",
       "  <tbody>\n",
       "    <tr>\n",
       "      <th>0</th>\n",
       "      <td>2208</td>\n",
       "      <td>33.0</td>\n",
       "      <td>128.0</td>\n",
       "      <td>6.0</td>\n",
       "      <td>3230.0</td>\n",
       "      <td>192.0</td>\n",
       "      <td>2</td>\n",
       "      <td>3.0</td>\n",
       "      <td>2</td>\n",
       "      <td>1</td>\n",
       "      <td>NaN</td>\n",
       "      <td>NaN</td>\n",
       "      <td>NaN</td>\n",
       "      <td>NaN</td>\n",
       "    </tr>\n",
       "    <tr>\n",
       "      <th>1</th>\n",
       "      <td>2211</td>\n",
       "      <td>32.0</td>\n",
       "      <td>185.0</td>\n",
       "      <td>7.0</td>\n",
       "      <td>2930.0</td>\n",
       "      <td>217.0</td>\n",
       "      <td>2</td>\n",
       "      <td>1.0</td>\n",
       "      <td>5</td>\n",
       "      <td>1</td>\n",
       "      <td>NaN</td>\n",
       "      <td>NaN</td>\n",
       "      <td>NaN</td>\n",
       "      <td>NaN</td>\n",
       "    </tr>\n",
       "    <tr>\n",
       "      <th>2</th>\n",
       "      <td>2212</td>\n",
       "      <td>28.0</td>\n",
       "      <td>NaN</td>\n",
       "      <td>7.0</td>\n",
       "      <td>1883.7</td>\n",
       "      <td>202.0</td>\n",
       "      <td>2</td>\n",
       "      <td>1.0</td>\n",
       "      <td>2</td>\n",
       "      <td>1</td>\n",
       "      <td>NaN</td>\n",
       "      <td>NaN</td>\n",
       "      <td>NaN</td>\n",
       "      <td>NaN</td>\n",
       "    </tr>\n",
       "    <tr>\n",
       "      <th>3</th>\n",
       "      <td>2216</td>\n",
       "      <td>56.0</td>\n",
       "      <td>200.0</td>\n",
       "      <td>0.0</td>\n",
       "      <td>850.0</td>\n",
       "      <td>194.0</td>\n",
       "      <td>2</td>\n",
       "      <td>1.0</td>\n",
       "      <td>5</td>\n",
       "      <td>1</td>\n",
       "      <td>NaN</td>\n",
       "      <td>NaN</td>\n",
       "      <td>NaN</td>\n",
       "      <td>NaN</td>\n",
       "    </tr>\n",
       "    <tr>\n",
       "      <th>4</th>\n",
       "      <td>2218</td>\n",
       "      <td>32.0</td>\n",
       "      <td>131.0</td>\n",
       "      <td>65.0</td>\n",
       "      <td>3200.0</td>\n",
       "      <td>200.0</td>\n",
       "      <td>2</td>\n",
       "      <td>1.0</td>\n",
       "      <td>2</td>\n",
       "      <td>1</td>\n",
       "      <td>NaN</td>\n",
       "      <td>NaN</td>\n",
       "      <td>NaN</td>\n",
       "      <td>NaN</td>\n",
       "    </tr>\n",
       "  </tbody>\n",
       "</table>\n",
       "</div>"
      ],
      "text/plain": [
       "     ID  edad  meses  max_ant  ingreso  score  tipo_vivienda  zona  nivel  \\\n",
       "0  2208  33.0  128.0      6.0   3230.0  192.0              2   3.0      2   \n",
       "1  2211  32.0  185.0      7.0   2930.0  217.0              2   1.0      5   \n",
       "2  2212  28.0    NaN      7.0   1883.7  202.0              2   1.0      2   \n",
       "3  2216  56.0  200.0      0.0    850.0  194.0              2   1.0      5   \n",
       "4  2218  32.0  131.0     65.0   3200.0  200.0              2   1.0      2   \n",
       "\n",
       "   riesgo  Unnamed: 10  Unnamed: 11  Unnamed: 12  Unnamed: 13  \n",
       "0       1          NaN          NaN          NaN          NaN  \n",
       "1       1          NaN          NaN          NaN          NaN  \n",
       "2       1          NaN          NaN          NaN          NaN  \n",
       "3       1          NaN          NaN          NaN          NaN  \n",
       "4       1          NaN          NaN          NaN          NaN  "
      ]
     },
     "execution_count": 22,
     "metadata": {},
     "output_type": "execute_result"
    }
   ],
   "source": [
    "import pandas as pd\n",
    "import numpy as np\n",
    "\n",
    "train = pd.read_csv(\"Morosidad_Train.csv\")\n",
    "train.head(5)"
   ]
  },
  {
   "cell_type": "code",
   "execution_count": 23,
   "metadata": {
    "scrolled": true
   },
   "outputs": [
    {
     "data": {
      "text/plain": [
       "pandas.core.frame.DataFrame"
      ]
     },
     "execution_count": 23,
     "metadata": {},
     "output_type": "execute_result"
    }
   ],
   "source": [
    "type(train)"
   ]
  },
  {
   "cell_type": "markdown",
   "metadata": {},
   "source": [
    "Convirtiendo el DataFrame de Pandas a DataFrame de Spark"
   ]
  },
  {
   "cell_type": "code",
   "execution_count": 24,
   "metadata": {},
   "outputs": [],
   "source": [
    "df_pandas = spark.createDataFrame(train)"
   ]
  },
  {
   "cell_type": "code",
   "execution_count": 27,
   "metadata": {},
   "outputs": [
    {
     "data": {
      "text/plain": [
       "pyspark.sql.dataframe.DataFrame"
      ]
     },
     "execution_count": 27,
     "metadata": {},
     "output_type": "execute_result"
    }
   ],
   "source": [
    "type(df_pandas)"
   ]
  },
  {
   "cell_type": "markdown",
   "metadata": {},
   "source": [
    "### Inspeccionando la data"
   ]
  },
  {
   "cell_type": "markdown",
   "metadata": {},
   "source": [
    "Información detallada de los tipos de dato de las columnas."
   ]
  },
  {
   "cell_type": "code",
   "execution_count": 35,
   "metadata": {},
   "outputs": [
    {
     "data": {
      "text/plain": [
       "[('DEST_COUNTRY_NAME', 'string'),\n",
       " ('ORIGIN_COUNTRY_NAME', 'string'),\n",
       " ('count', 'string')]"
      ]
     },
     "execution_count": 35,
     "metadata": {},
     "output_type": "execute_result"
    }
   ],
   "source": [
    "df_csv.dtypes"
   ]
  },
  {
   "cell_type": "markdown",
   "metadata": {},
   "source": [
    "**Casteo:** La columna \"count\" debe ser convertida a entero, así que lo casteamos"
   ]
  },
  {
   "cell_type": "code",
   "execution_count": 36,
   "metadata": {},
   "outputs": [],
   "source": [
    "df_csv = df_csv.withColumn(\"count\", df_csv[\"count\"].cast(\"int\"))"
   ]
  },
  {
   "cell_type": "code",
   "execution_count": 37,
   "metadata": {
    "scrolled": true
   },
   "outputs": [
    {
     "data": {
      "text/plain": [
       "[('DEST_COUNTRY_NAME', 'string'),\n",
       " ('ORIGIN_COUNTRY_NAME', 'string'),\n",
       " ('count', 'int')]"
      ]
     },
     "execution_count": 37,
     "metadata": {},
     "output_type": "execute_result"
    }
   ],
   "source": [
    "df_csv.dtypes"
   ]
  },
  {
   "cell_type": "markdown",
   "metadata": {},
   "source": [
    "Otra forma de ver el tipo de dato de las columnas"
   ]
  },
  {
   "cell_type": "code",
   "execution_count": 49,
   "metadata": {
    "scrolled": true
   },
   "outputs": [
    {
     "data": {
      "text/plain": [
       "StructType(List(StructField(DEST_COUNTRY_NAME,StringType,true),StructField(ORIGIN_COUNTRY_NAME,StringType,true),StructField(count,IntegerType,true)))"
      ]
     },
     "execution_count": 49,
     "metadata": {},
     "output_type": "execute_result"
    }
   ],
   "source": [
    "df_csv.schema"
   ]
  },
  {
   "cell_type": "code",
   "execution_count": 41,
   "metadata": {},
   "outputs": [
    {
     "data": {
      "text/plain": [
       "Row(DEST_COUNTRY_NAME='United States', ORIGIN_COUNTRY_NAME='Romania', count=15)"
      ]
     },
     "execution_count": 41,
     "metadata": {},
     "output_type": "execute_result"
    }
   ],
   "source": [
    "df_csv.first()"
   ]
  },
  {
   "cell_type": "code",
   "execution_count": 42,
   "metadata": {},
   "outputs": [
    {
     "data": {
      "text/plain": [
       "[Row(DEST_COUNTRY_NAME='United States', ORIGIN_COUNTRY_NAME='Romania', count=15),\n",
       " Row(DEST_COUNTRY_NAME='United States', ORIGIN_COUNTRY_NAME='Croatia', count=1)]"
      ]
     },
     "execution_count": 42,
     "metadata": {},
     "output_type": "execute_result"
    }
   ],
   "source": [
    "df_csv.take(2)"
   ]
  },
  {
   "cell_type": "code",
   "execution_count": 43,
   "metadata": {},
   "outputs": [
    {
     "data": {
      "text/plain": [
       "DataFrame[summary: string, DEST_COUNTRY_NAME: string, ORIGIN_COUNTRY_NAME: string, count: string]"
      ]
     },
     "execution_count": 43,
     "metadata": {},
     "output_type": "execute_result"
    }
   ],
   "source": [
    "df_csv.describe()"
   ]
  },
  {
   "cell_type": "code",
   "execution_count": 44,
   "metadata": {},
   "outputs": [
    {
     "data": {
      "text/plain": [
       "['DEST_COUNTRY_NAME', 'ORIGIN_COUNTRY_NAME', 'count']"
      ]
     },
     "execution_count": 44,
     "metadata": {},
     "output_type": "execute_result"
    }
   ],
   "source": [
    "df_csv.columns"
   ]
  },
  {
   "cell_type": "code",
   "execution_count": 45,
   "metadata": {},
   "outputs": [
    {
     "data": {
      "text/plain": [
       "256"
      ]
     },
     "execution_count": 45,
     "metadata": {},
     "output_type": "execute_result"
    }
   ],
   "source": [
    "df_csv.count()"
   ]
  },
  {
   "cell_type": "code",
   "execution_count": 46,
   "metadata": {},
   "outputs": [
    {
     "data": {
      "text/plain": [
       "256"
      ]
     },
     "execution_count": 46,
     "metadata": {},
     "output_type": "execute_result"
    }
   ],
   "source": [
    "df_csv.distinct().count()"
   ]
  },
  {
   "cell_type": "code",
   "execution_count": 47,
   "metadata": {},
   "outputs": [
    {
     "name": "stdout",
     "output_type": "stream",
     "text": [
      "root\n",
      " |-- DEST_COUNTRY_NAME: string (nullable = true)\n",
      " |-- ORIGIN_COUNTRY_NAME: string (nullable = true)\n",
      " |-- count: integer (nullable = true)\n",
      "\n"
     ]
    }
   ],
   "source": [
    "df_csv.printSchema()"
   ]
  },
  {
   "cell_type": "markdown",
   "metadata": {},
   "source": [
    "Spark Dataframe guarda las instrucciones\n"
   ]
  },
  {
   "cell_type": "code",
   "execution_count": 50,
   "metadata": {},
   "outputs": [
    {
     "data": {
      "text/plain": [
       "DataFrame[number: bigint]"
      ]
     },
     "execution_count": 50,
     "metadata": {},
     "output_type": "execute_result"
    }
   ],
   "source": [
    "df_range = spark.range(100).toDF(\"number\")\n",
    "df_range_v2 = df_range.sort(\"number\")\n",
    "df_range_v3 = df_range_v2.where(\"number < 50\")\n",
    "df_range"
   ]
  },
  {
   "cell_type": "markdown",
   "metadata": {},
   "source": [
    "Veamos la secuencia de instrucciones que guarda Spark"
   ]
  },
  {
   "cell_type": "code",
   "execution_count": 52,
   "metadata": {},
   "outputs": [
    {
     "name": "stdout",
     "output_type": "stream",
     "text": [
      "== Physical Plan ==\n",
      "*Sort [number#372L ASC NULLS FIRST], true, 0\n",
      "+- Exchange rangepartitioning(number#372L ASC NULLS FIRST, 200)\n",
      "   +- *Project [id#369L AS number#372L]\n",
      "      +- *Filter (id#369L < 50)\n",
      "         +- *Range (0, 100, step=1, splits=Some(1))\n"
     ]
    }
   ],
   "source": [
    "df_range_v3.explain()"
   ]
  },
  {
   "cell_type": "markdown",
   "metadata": {},
   "source": [
    "Si castear no quieres, **inferSchema** usar debes"
   ]
  },
  {
   "cell_type": "code",
   "execution_count": 56,
   "metadata": {
    "scrolled": true
   },
   "outputs": [
    {
     "data": {
      "text/plain": [
       "[('DEST_COUNTRY_NAME', 'string'),\n",
       " ('ORIGIN_COUNTRY_NAME', 'string'),\n",
       " ('count', 'int')]"
      ]
     },
     "execution_count": 56,
     "metadata": {},
     "output_type": "execute_result"
    }
   ],
   "source": [
    "df_csv = spark.read.csv(\"2015-summary.csv\", header = True, sep = ',', inferSchema='true')\n",
    "df_csv.dtypes"
   ]
  },
  {
   "cell_type": "markdown",
   "metadata": {},
   "source": [
    "### Cláusula SELECT"
   ]
  },
  {
   "cell_type": "code",
   "execution_count": 68,
   "metadata": {
    "scrolled": true
   },
   "outputs": [
    {
     "name": "stdout",
     "output_type": "stream",
     "text": [
      "+-----------------+-----+\n",
      "|DEST_COUNTRY_NAME|COUNT|\n",
      "+-----------------+-----+\n",
      "|    United States|   15|\n",
      "|    United States|    1|\n",
      "|    United States|  344|\n",
      "+-----------------+-----+\n",
      "only showing top 3 rows\n",
      "\n"
     ]
    }
   ],
   "source": [
    "df_csv.select(\"DEST_COUNTRY_NAME\", \"COUNT\").show(3)"
   ]
  },
  {
   "cell_type": "markdown",
   "metadata": {},
   "source": [
    "Acostumbrarse a esta forma"
   ]
  },
  {
   "cell_type": "code",
   "execution_count": 79,
   "metadata": {
    "scrolled": true
   },
   "outputs": [
    {
     "name": "stdout",
     "output_type": "stream",
     "text": [
      "+-------------------+-----------+\n",
      "|ORIGIN_COUNTRY_NAME|(count + 1)|\n",
      "+-------------------+-----------+\n",
      "|            Romania|         16|\n",
      "|            Croatia|          2|\n",
      "|            Ireland|        345|\n",
      "+-------------------+-----------+\n",
      "only showing top 3 rows\n",
      "\n"
     ]
    }
   ],
   "source": [
    "df_csv.select(\"ORIGIN_COUNTRY_NAME\", df_csv[\"count\"] + 1).show(3)"
   ]
  },
  {
   "cell_type": "code",
   "execution_count": 76,
   "metadata": {
    "scrolled": true
   },
   "outputs": [
    {
     "name": "stdout",
     "output_type": "stream",
     "text": [
      "+-----------------+--------+\n",
      "|DEST_COUNTRY_NAME|cuenta*5|\n",
      "+-----------------+--------+\n",
      "|    United States|      75|\n",
      "|    United States|       5|\n",
      "|    United States|    1720|\n",
      "+-----------------+--------+\n",
      "only showing top 3 rows\n",
      "\n"
     ]
    }
   ],
   "source": [
    "df_csv.select(\"DEST_COUNTRY_NAME\", (df_csv[\"count\"]*5).alias(\"cuenta*5\")).show(3)"
   ]
  },
  {
   "cell_type": "code",
   "execution_count": 81,
   "metadata": {
    "scrolled": true
   },
   "outputs": [
    {
     "name": "stdout",
     "output_type": "stream",
     "text": [
      "+-------------------+------+\n",
      "|ORIGIN_COUNTRY_NAME|cuenta|\n",
      "+-------------------+------+\n",
      "|            Romania| false|\n",
      "|            Croatia| false|\n",
      "|            Ireland|  true|\n",
      "|      United States| false|\n",
      "|              India|  true|\n",
      "+-------------------+------+\n",
      "only showing top 5 rows\n",
      "\n"
     ]
    }
   ],
   "source": [
    "df_csv.select(\"ORIGIN_COUNTRY_NAME\", (df_csv[\"count\"] > 50).alias(\"cuenta\")).show(5)"
   ]
  },
  {
   "cell_type": "markdown",
   "metadata": {},
   "source": [
    "### Cláusula Filter - Where"
   ]
  },
  {
   "cell_type": "code",
   "execution_count": 84,
   "metadata": {
    "scrolled": true
   },
   "outputs": [
    {
     "name": "stdout",
     "output_type": "stream",
     "text": [
      "+-----------------+-------------------+-----+\n",
      "|DEST_COUNTRY_NAME|ORIGIN_COUNTRY_NAME|count|\n",
      "+-----------------+-------------------+-----+\n",
      "|    United States|            Ireland|  344|\n",
      "|    United States|              India|   62|\n",
      "|    United States|            Grenada|   62|\n",
      "|       Costa Rica|      United States|  588|\n",
      "|    United States|       Sint Maarten|  325|\n",
      "+-----------------+-------------------+-----+\n",
      "only showing top 5 rows\n",
      "\n"
     ]
    }
   ],
   "source": [
    "df_csv.filter(df_csv[\"count\"] > 50).show(5)"
   ]
  },
  {
   "cell_type": "code",
   "execution_count": 85,
   "metadata": {
    "scrolled": true
   },
   "outputs": [
    {
     "name": "stdout",
     "output_type": "stream",
     "text": [
      "+-----------------+-------------------+-----+\n",
      "|DEST_COUNTRY_NAME|ORIGIN_COUNTRY_NAME|count|\n",
      "+-----------------+-------------------+-----+\n",
      "|    United States|              India|   62|\n",
      "|    United States|            Grenada|   62|\n",
      "|          Austria|      United States|   62|\n",
      "+-----------------+-------------------+-----+\n",
      "\n"
     ]
    }
   ],
   "source": [
    "df_csv.filter(df_csv[\"count\"] == 62).show(5)"
   ]
  },
  {
   "cell_type": "code",
   "execution_count": 86,
   "metadata": {},
   "outputs": [
    {
     "name": "stdout",
     "output_type": "stream",
     "text": [
      "+--------------------+--------------------+-----+\n",
      "|   DEST_COUNTRY_NAME| ORIGIN_COUNTRY_NAME|count|\n",
      "+--------------------+--------------------+-----+\n",
      "|       United States|               India|   62|\n",
      "|       United States|             Grenada|   62|\n",
      "|              Guyana|       United States|   64|\n",
      "|       United States|Federated States ...|   69|\n",
      "|Federated States ...|       United States|   69|\n",
      "+--------------------+--------------------+-----+\n",
      "only showing top 5 rows\n",
      "\n"
     ]
    }
   ],
   "source": [
    "df_csv.filter(\"count > 50 and count < 100\").show(5)"
   ]
  },
  {
   "cell_type": "code",
   "execution_count": 87,
   "metadata": {
    "scrolled": true
   },
   "outputs": [
    {
     "name": "stdout",
     "output_type": "stream",
     "text": [
      "+-----------------+-------------------+-----+\n",
      "|DEST_COUNTRY_NAME|ORIGIN_COUNTRY_NAME|count|\n",
      "+-----------------+-------------------+-----+\n",
      "|    United States|              India|   62|\n",
      "|    United States|            Grenada|   62|\n",
      "|          Austria|      United States|   62|\n",
      "+-----------------+-------------------+-----+\n",
      "\n"
     ]
    }
   ],
   "source": [
    "df_csv.where(df_csv[\"count\"] == 62).show(5)"
   ]
  },
  {
   "cell_type": "code",
   "execution_count": 88,
   "metadata": {
    "scrolled": true
   },
   "outputs": [
    {
     "name": "stdout",
     "output_type": "stream",
     "text": [
      "+-----------------+-------------------+-----+\n",
      "|DEST_COUNTRY_NAME|ORIGIN_COUNTRY_NAME|count|\n",
      "+-----------------+-------------------+-----+\n",
      "|    United States|            Ireland|  344|\n",
      "|    United States|              India|   62|\n",
      "|    United States|            Grenada|   62|\n",
      "|       Costa Rica|      United States|  588|\n",
      "|    United States|       Sint Maarten|  325|\n",
      "+-----------------+-------------------+-----+\n",
      "only showing top 5 rows\n",
      "\n"
     ]
    }
   ],
   "source": [
    "df_csv.where(df_csv[\"count\"] > 50).show(5)"
   ]
  },
  {
   "cell_type": "code",
   "execution_count": 89,
   "metadata": {
    "scrolled": true
   },
   "outputs": [
    {
     "name": "stdout",
     "output_type": "stream",
     "text": [
      "+--------------------+--------------------+-----+\n",
      "|   DEST_COUNTRY_NAME| ORIGIN_COUNTRY_NAME|count|\n",
      "+--------------------+--------------------+-----+\n",
      "|       United States|               India|   62|\n",
      "|       United States|             Grenada|   62|\n",
      "|              Guyana|       United States|   64|\n",
      "|       United States|Federated States ...|   69|\n",
      "|Federated States ...|       United States|   69|\n",
      "+--------------------+--------------------+-----+\n",
      "only showing top 5 rows\n",
      "\n"
     ]
    }
   ],
   "source": [
    "df_csv.where(\"count > 50 and count < 100\").show(5)"
   ]
  },
  {
   "cell_type": "markdown",
   "metadata": {},
   "source": [
    "### Group By"
   ]
  },
  {
   "cell_type": "code",
   "execution_count": 92,
   "metadata": {},
   "outputs": [
    {
     "name": "stdout",
     "output_type": "stream",
     "text": [
      "+-----------------+----------+\n",
      "|DEST_COUNTRY_NAME|sum(count)|\n",
      "+-----------------+----------+\n",
      "|         Anguilla|        41|\n",
      "|           Russia|       176|\n",
      "|         Paraguay|        60|\n",
      "+-----------------+----------+\n",
      "only showing top 3 rows\n",
      "\n"
     ]
    }
   ],
   "source": [
    "df_csv.groupBy(\"DEST_COUNTRY_NAME\").sum(\"count\").show(3)"
   ]
  },
  {
   "cell_type": "code",
   "execution_count": 93,
   "metadata": {
    "scrolled": true
   },
   "outputs": [
    {
     "name": "stdout",
     "output_type": "stream",
     "text": [
      "+-------------------+----------+\n",
      "|ORIGIN_COUNTRY_NAME|avg(count)|\n",
      "+-------------------+----------+\n",
      "|           Paraguay|       6.0|\n",
      "|             Russia|     161.0|\n",
      "|           Anguilla|      38.0|\n",
      "+-------------------+----------+\n",
      "only showing top 3 rows\n",
      "\n"
     ]
    }
   ],
   "source": [
    "df_csv.groupBy(\"ORIGIN_COUNTRY_NAME\").avg(\"count\").show(3)"
   ]
  },
  {
   "cell_type": "code",
   "execution_count": 94,
   "metadata": {
    "scrolled": true
   },
   "outputs": [
    {
     "name": "stdout",
     "output_type": "stream",
     "text": [
      "+-------------------+----------+\n",
      "|ORIGIN_COUNTRY_NAME|min(count)|\n",
      "+-------------------+----------+\n",
      "|           Paraguay|         6|\n",
      "|             Russia|       161|\n",
      "|           Anguilla|        38|\n",
      "+-------------------+----------+\n",
      "only showing top 3 rows\n",
      "\n"
     ]
    }
   ],
   "source": [
    "df_csv.groupBy(\"ORIGIN_COUNTRY_NAME\").min(\"count\").show(3)"
   ]
  },
  {
   "cell_type": "code",
   "execution_count": 95,
   "metadata": {
    "scrolled": true
   },
   "outputs": [
    {
     "name": "stdout",
     "output_type": "stream",
     "text": [
      "+-------------------+----------+\n",
      "|ORIGIN_COUNTRY_NAME|max(count)|\n",
      "+-------------------+----------+\n",
      "|           Paraguay|         6|\n",
      "|             Russia|       161|\n",
      "|           Anguilla|        38|\n",
      "+-------------------+----------+\n",
      "only showing top 3 rows\n",
      "\n"
     ]
    }
   ],
   "source": [
    "df_csv.groupBy(\"ORIGIN_COUNTRY_NAME\").max(\"count\").show(3)"
   ]
  },
  {
   "cell_type": "code",
   "execution_count": 96,
   "metadata": {},
   "outputs": [
    {
     "name": "stdout",
     "output_type": "stream",
     "text": [
      "+-----------------+-----+\n",
      "|DEST_COUNTRY_NAME|count|\n",
      "+-----------------+-----+\n",
      "|    United States|    2|\n",
      "+-----------------+-----+\n",
      "\n"
     ]
    }
   ],
   "source": [
    "df_csv_2 = df_csv.where(\"ORIGIN_COUNTRY_NAME in ('Philippines','Malaysia')\")\n",
    "df_csv_2.groupBy(\"DEST_COUNTRY_NAME\").count().show()"
   ]
  },
  {
   "cell_type": "code",
   "execution_count": 97,
   "metadata": {
    "scrolled": true
   },
   "outputs": [
    {
     "name": "stdout",
     "output_type": "stream",
     "text": [
      "+-----------------+-------------------+-----+\n",
      "|DEST_COUNTRY_NAME|ORIGIN_COUNTRY_NAME|count|\n",
      "+-----------------+-------------------+-----+\n",
      "|    United States|           Malaysia|    3|\n",
      "|    United States|        Philippines|  126|\n",
      "+-----------------+-------------------+-----+\n",
      "\n"
     ]
    }
   ],
   "source": [
    "df_csv_2 = df_csv.where(\"ORIGIN_COUNTRY_NAME in ('Philippines','Malaysia')\").show()\n",
    "df_csv_2 = df_csv.where(\"ORIGIN_COUNTRY_NAME in ('Philippines','Malaysia')\")"
   ]
  },
  {
   "cell_type": "markdown",
   "metadata": {},
   "source": [
    "### Clausula Sort"
   ]
  },
  {
   "cell_type": "code",
   "execution_count": 99,
   "metadata": {
    "scrolled": true
   },
   "outputs": [
    {
     "name": "stdout",
     "output_type": "stream",
     "text": [
      "+-----------------+-------------------+-----+\n",
      "|DEST_COUNTRY_NAME|ORIGIN_COUNTRY_NAME|count|\n",
      "+-----------------+-------------------+-----+\n",
      "|    United States|            Romania|   15|\n",
      "|    United States|            Croatia|    1|\n",
      "|    United States|            Ireland|  344|\n",
      "|            Egypt|      United States|   15|\n",
      "|    United States|              India|   62|\n",
      "+-----------------+-------------------+-----+\n",
      "only showing top 5 rows\n",
      "\n"
     ]
    }
   ],
   "source": [
    "df_csv.show(5)"
   ]
  },
  {
   "cell_type": "code",
   "execution_count": 100,
   "metadata": {
    "scrolled": true
   },
   "outputs": [
    {
     "name": "stdout",
     "output_type": "stream",
     "text": [
      "+-------------------+-------------------+-----+\n",
      "|  DEST_COUNTRY_NAME|ORIGIN_COUNTRY_NAME|count|\n",
      "+-------------------+-------------------+-----+\n",
      "|            Algeria|      United States|    4|\n",
      "|             Angola|      United States|   15|\n",
      "|           Anguilla|      United States|   41|\n",
      "|Antigua and Barbuda|      United States|  126|\n",
      "|          Argentina|      United States|  180|\n",
      "+-------------------+-------------------+-----+\n",
      "only showing top 5 rows\n",
      "\n"
     ]
    }
   ],
   "source": [
    "df_csv.sort(df_csv[\"DEST_COUNTRY_NAME\"]).show(5)"
   ]
  },
  {
   "cell_type": "code",
   "execution_count": 101,
   "metadata": {
    "scrolled": true
   },
   "outputs": [
    {
     "name": "stdout",
     "output_type": "stream",
     "text": [
      "+-----------------+-------------------+-----+\n",
      "|DEST_COUNTRY_NAME|ORIGIN_COUNTRY_NAME|count|\n",
      "+-----------------+-------------------+-----+\n",
      "|           Zambia|      United States|    1|\n",
      "|        Venezuela|      United States|  290|\n",
      "|          Uruguay|      United States|   43|\n",
      "|    United States|            Grenada|   62|\n",
      "|    United States|            Romania|   15|\n",
      "+-----------------+-------------------+-----+\n",
      "only showing top 5 rows\n",
      "\n"
     ]
    }
   ],
   "source": [
    "df_csv.sort(df_csv[\"DEST_COUNTRY_NAME\"].desc()).show(5)"
   ]
  },
  {
   "cell_type": "code",
   "execution_count": 102,
   "metadata": {
    "scrolled": true
   },
   "outputs": [
    {
     "name": "stdout",
     "output_type": "stream",
     "text": [
      "+-----------------+-------------------+-----+\n",
      "|DEST_COUNTRY_NAME|ORIGIN_COUNTRY_NAME|count|\n",
      "+-----------------+-------------------+-----+\n",
      "|           Zambia|      United States|    1|\n",
      "|        Venezuela|      United States|  290|\n",
      "|          Uruguay|      United States|   43|\n",
      "|    United States|            Croatia|    1|\n",
      "|    United States|          Singapore|    1|\n",
      "+-----------------+-------------------+-----+\n",
      "only showing top 5 rows\n",
      "\n"
     ]
    }
   ],
   "source": [
    "df_csv.sort(df_csv[\"DEST_COUNTRY_NAME\"].desc(), df_csv[\"count\"]).show(5)"
   ]
  },
  {
   "cell_type": "code",
   "execution_count": 104,
   "metadata": {
    "scrolled": false
   },
   "outputs": [
    {
     "name": "stdout",
     "output_type": "stream",
     "text": [
      "+-----------------+-------------------+------+\n",
      "|DEST_COUNTRY_NAME|ORIGIN_COUNTRY_NAME| count|\n",
      "+-----------------+-------------------+------+\n",
      "|    United States|      United States|370002|\n",
      "|    United States|             Canada|  8483|\n",
      "|           Canada|      United States|  8399|\n",
      "|    United States|             Mexico|  7187|\n",
      "|           Mexico|      United States|  7140|\n",
      "+-----------------+-------------------+------+\n",
      "only showing top 5 rows\n",
      "\n"
     ]
    }
   ],
   "source": [
    "df_csv.sort(\"count\", ascending = False).show(5)"
   ]
  },
  {
   "cell_type": "code",
   "execution_count": 105,
   "metadata": {
    "scrolled": true
   },
   "outputs": [
    {
     "name": "stdout",
     "output_type": "stream",
     "text": [
      "+-----------------+-------------------+-----+\n",
      "|DEST_COUNTRY_NAME|ORIGIN_COUNTRY_NAME|count|\n",
      "+-----------------+-------------------+-----+\n",
      "|           Zambia|      United States|    1|\n",
      "|        Venezuela|      United States|  290|\n",
      "|          Uruguay|      United States|   43|\n",
      "|    United States|            Croatia|    1|\n",
      "|    United States|          Singapore|    1|\n",
      "+-----------------+-------------------+-----+\n",
      "only showing top 5 rows\n",
      "\n"
     ]
    }
   ],
   "source": [
    "df_csv.sort([\"DEST_COUNTRY_NAME\",\"count\"], ascending = [0,1]).show(5)"
   ]
  },
  {
   "cell_type": "markdown",
   "metadata": {},
   "source": [
    "### Funciones Extras"
   ]
  },
  {
   "cell_type": "code",
   "execution_count": 106,
   "metadata": {},
   "outputs": [],
   "source": [
    "from pyspark.sql import functions as F"
   ]
  },
  {
   "cell_type": "markdown",
   "metadata": {},
   "source": [
    "#### Clausula When"
   ]
  },
  {
   "cell_type": "code",
   "execution_count": 107,
   "metadata": {
    "scrolled": true
   },
   "outputs": [
    {
     "name": "stdout",
     "output_type": "stream",
     "text": [
      "+--------------------+---------------------------------------------------------------+\n",
      "|   DEST_COUNTRY_NAME|CASE WHEN (count < 25) THEN Menores a 25 ELSE Mayores a 100 END|\n",
      "+--------------------+---------------------------------------------------------------+\n",
      "|       United States|                                                   Menores a 25|\n",
      "|       United States|                                                   Menores a 25|\n",
      "|       United States|                                                  Mayores a 100|\n",
      "|               Egypt|                                                   Menores a 25|\n",
      "|       United States|                                                  Mayores a 100|\n",
      "|       United States|                                                   Menores a 25|\n",
      "|       United States|                                                  Mayores a 100|\n",
      "|          Costa Rica|                                                  Mayores a 100|\n",
      "|             Senegal|                                                  Mayores a 100|\n",
      "|             Moldova|                                                   Menores a 25|\n",
      "|       United States|                                                  Mayores a 100|\n",
      "|       United States|                                                  Mayores a 100|\n",
      "|              Guyana|                                                  Mayores a 100|\n",
      "|               Malta|                                                   Menores a 25|\n",
      "|            Anguilla|                                                  Mayores a 100|\n",
      "|             Bolivia|                                                  Mayores a 100|\n",
      "|       United States|                                                   Menores a 25|\n",
      "|             Algeria|                                                   Menores a 25|\n",
      "|Turks and Caicos ...|                                                  Mayores a 100|\n",
      "|       United States|                                                   Menores a 25|\n",
      "+--------------------+---------------------------------------------------------------+\n",
      "only showing top 20 rows\n",
      "\n"
     ]
    }
   ],
   "source": [
    "df_csv.select(df_csv[\"DEST_COUNTRY_NAME\"], F.when(df_csv[\"count\"] < 25, \"Menores a 25\").otherwise(\"Mayores a 100\")).show()"
   ]
  },
  {
   "cell_type": "markdown",
   "metadata": {},
   "source": [
    "Poniendo alias al resultado de la columna de los when"
   ]
  },
  {
   "cell_type": "code",
   "execution_count": 110,
   "metadata": {},
   "outputs": [
    {
     "name": "stdout",
     "output_type": "stream",
     "text": [
      "+--------------------+-------------+\n",
      "|   DEST_COUNTRY_NAME|       Cuenta|\n",
      "+--------------------+-------------+\n",
      "|       United States| Menores a 25|\n",
      "|       United States| Menores a 25|\n",
      "|       United States|Mayores a 100|\n",
      "|               Egypt| Menores a 25|\n",
      "|       United States|Mayores a 100|\n",
      "|       United States| Menores a 25|\n",
      "|       United States|Mayores a 100|\n",
      "|          Costa Rica|Mayores a 100|\n",
      "|             Senegal|Mayores a 100|\n",
      "|             Moldova| Menores a 25|\n",
      "|       United States|Mayores a 100|\n",
      "|       United States|Mayores a 100|\n",
      "|              Guyana|Mayores a 100|\n",
      "|               Malta| Menores a 25|\n",
      "|            Anguilla|Mayores a 100|\n",
      "|             Bolivia|Mayores a 100|\n",
      "|       United States| Menores a 25|\n",
      "|             Algeria| Menores a 25|\n",
      "|Turks and Caicos ...|Mayores a 100|\n",
      "|       United States| Menores a 25|\n",
      "+--------------------+-------------+\n",
      "only showing top 20 rows\n",
      "\n"
     ]
    }
   ],
   "source": [
    "df_csv.select(df_csv[\"DEST_COUNTRY_NAME\"], (F.when(df_csv[\"count\"] < 25, \"Menores a 25\").otherwise(\"Mayores a 100\")).alias(\"Cuenta\")).show()"
   ]
  },
  {
   "cell_type": "markdown",
   "metadata": {},
   "source": [
    "#### Cláusula Like"
   ]
  },
  {
   "cell_type": "code",
   "execution_count": 112,
   "metadata": {},
   "outputs": [
    {
     "name": "stdout",
     "output_type": "stream",
     "text": [
      "+-----------------+----------------------------+\n",
      "|DEST_COUNTRY_NAME|DEST_COUNTRY_NAME LIKE Egypt|\n",
      "+-----------------+----------------------------+\n",
      "|    United States|                       false|\n",
      "|    United States|                       false|\n",
      "|    United States|                       false|\n",
      "|            Egypt|                        true|\n",
      "|    United States|                       false|\n",
      "+-----------------+----------------------------+\n",
      "only showing top 5 rows\n",
      "\n"
     ]
    }
   ],
   "source": [
    "df_csv.select(\"DEST_COUNTRY_NAME\", df_csv[\"DEST_COUNTRY_NAME\"].like(\"Egypt\")).show(5)"
   ]
  },
  {
   "cell_type": "markdown",
   "metadata": {},
   "source": [
    "#### Cláusula Startswith - Endswith"
   ]
  },
  {
   "cell_type": "code",
   "execution_count": 115,
   "metadata": {
    "scrolled": true
   },
   "outputs": [
    {
     "name": "stdout",
     "output_type": "stream",
     "text": [
      "+-----------------+----------------------------+\n",
      "|DEST_COUNTRY_NAME|DEST_COUNTRY_NAME LIKE %ted%|\n",
      "+-----------------+----------------------------+\n",
      "|    United States|                        true|\n",
      "|    United States|                        true|\n",
      "|    United States|                        true|\n",
      "|            Egypt|                       false|\n",
      "|    United States|                        true|\n",
      "+-----------------+----------------------------+\n",
      "only showing top 5 rows\n",
      "\n"
     ]
    }
   ],
   "source": [
    "df_csv.select(\"DEST_COUNTRY_NAME\", df_csv[\"DEST_COUNTRY_NAME\"].like(\"%ted%\")).show(5)"
   ]
  },
  {
   "cell_type": "code",
   "execution_count": 116,
   "metadata": {
    "scrolled": true
   },
   "outputs": [
    {
     "name": "stdout",
     "output_type": "stream",
     "text": [
      "+--------------------+------------------------------+\n",
      "|   DEST_COUNTRY_NAME|endswith(DEST_COUNTRY_NAME, a)|\n",
      "+--------------------+------------------------------+\n",
      "|       United States|                         false|\n",
      "|       United States|                         false|\n",
      "|       United States|                         false|\n",
      "|               Egypt|                         false|\n",
      "|       United States|                         false|\n",
      "|       United States|                         false|\n",
      "|       United States|                         false|\n",
      "|          Costa Rica|                          true|\n",
      "|             Senegal|                         false|\n",
      "|             Moldova|                          true|\n",
      "|       United States|                         false|\n",
      "|       United States|                         false|\n",
      "|              Guyana|                          true|\n",
      "|               Malta|                          true|\n",
      "|            Anguilla|                          true|\n",
      "|             Bolivia|                          true|\n",
      "|       United States|                         false|\n",
      "|             Algeria|                          true|\n",
      "|Turks and Caicos ...|                         false|\n",
      "|       United States|                         false|\n",
      "+--------------------+------------------------------+\n",
      "only showing top 20 rows\n",
      "\n"
     ]
    }
   ],
   "source": [
    "df_csv.select(\"DEST_COUNTRY_NAME\", df_csv[\"DEST_COUNTRY_NAME\"].endswith(\"a\")).show()"
   ]
  },
  {
   "cell_type": "markdown",
   "metadata": {},
   "source": [
    "#### Cláusula Substring"
   ]
  },
  {
   "cell_type": "code",
   "execution_count": 117,
   "metadata": {
    "scrolled": true
   },
   "outputs": [
    {
     "name": "stdout",
     "output_type": "stream",
     "text": [
      "+--------------------+------------+\n",
      "|   DEST_COUNTRY_NAME|Nombre_Corto|\n",
      "+--------------------+------------+\n",
      "|       United States|         Uni|\n",
      "|       United States|         Uni|\n",
      "|       United States|         Uni|\n",
      "|               Egypt|         Egy|\n",
      "|       United States|         Uni|\n",
      "|       United States|         Uni|\n",
      "|       United States|         Uni|\n",
      "|          Costa Rica|         Cos|\n",
      "|             Senegal|         Sen|\n",
      "|             Moldova|         Mol|\n",
      "|       United States|         Uni|\n",
      "|       United States|         Uni|\n",
      "|              Guyana|         Guy|\n",
      "|               Malta|         Mal|\n",
      "|            Anguilla|         Ang|\n",
      "|             Bolivia|         Bol|\n",
      "|       United States|         Uni|\n",
      "|             Algeria|         Alg|\n",
      "|Turks and Caicos ...|         Tur|\n",
      "|       United States|         Uni|\n",
      "+--------------------+------------+\n",
      "only showing top 20 rows\n",
      "\n"
     ]
    }
   ],
   "source": [
    "df_csv.select(\"DEST_COUNTRY_NAME\", (df_csv[\"DEST_COUNTRY_NAME\"].substr(1,3)).alias(\"Nombre_Corto\")).show()"
   ]
  },
  {
   "cell_type": "markdown",
   "metadata": {},
   "source": [
    "#### Cláusula Between"
   ]
  },
  {
   "cell_type": "code",
   "execution_count": 118,
   "metadata": {
    "scrolled": true
   },
   "outputs": [
    {
     "name": "stdout",
     "output_type": "stream",
     "text": [
      "+--------------------+-----+---------------------------------+\n",
      "|   DEST_COUNTRY_NAME|count|((count >= 25) AND (count <= 75))|\n",
      "+--------------------+-----+---------------------------------+\n",
      "|       United States|   15|                            false|\n",
      "|       United States|    1|                            false|\n",
      "|       United States|  344|                            false|\n",
      "|               Egypt|   15|                            false|\n",
      "|       United States|   62|                             true|\n",
      "|       United States|    1|                            false|\n",
      "|       United States|   62|                             true|\n",
      "|          Costa Rica|  588|                            false|\n",
      "|             Senegal|   40|                             true|\n",
      "|             Moldova|    1|                            false|\n",
      "|       United States|  325|                            false|\n",
      "|       United States|   39|                             true|\n",
      "|              Guyana|   64|                             true|\n",
      "|               Malta|    1|                            false|\n",
      "|            Anguilla|   41|                             true|\n",
      "|             Bolivia|   30|                             true|\n",
      "|       United States|    6|                            false|\n",
      "|             Algeria|    4|                            false|\n",
      "|Turks and Caicos ...|  230|                            false|\n",
      "|       United States|    1|                            false|\n",
      "+--------------------+-----+---------------------------------+\n",
      "only showing top 20 rows\n",
      "\n"
     ]
    }
   ],
   "source": [
    "df_csv.select(\"DEST_COUNTRY_NAME\", \"count\", df_csv[\"count\"].between(25,75)).show()"
   ]
  },
  {
   "cell_type": "markdown",
   "metadata": {},
   "source": [
    "#### Modificando nombres de columnas"
   ]
  },
  {
   "cell_type": "code",
   "execution_count": 119,
   "metadata": {
    "scrolled": true
   },
   "outputs": [
    {
     "name": "stdout",
     "output_type": "stream",
     "text": [
      "+--------------------+-------------------+------+\n",
      "|   DEST_COUNTRY_NAME|ORIGIN_COUNTRY_NAME|cuenta|\n",
      "+--------------------+-------------------+------+\n",
      "|       United States|            Romania|    15|\n",
      "|       United States|            Croatia|     1|\n",
      "|       United States|            Ireland|   344|\n",
      "|               Egypt|      United States|    15|\n",
      "|       United States|              India|    62|\n",
      "|       United States|          Singapore|     1|\n",
      "|       United States|            Grenada|    62|\n",
      "|          Costa Rica|      United States|   588|\n",
      "|             Senegal|      United States|    40|\n",
      "|             Moldova|      United States|     1|\n",
      "|       United States|       Sint Maarten|   325|\n",
      "|       United States|   Marshall Islands|    39|\n",
      "|              Guyana|      United States|    64|\n",
      "|               Malta|      United States|     1|\n",
      "|            Anguilla|      United States|    41|\n",
      "|             Bolivia|      United States|    30|\n",
      "|       United States|           Paraguay|     6|\n",
      "|             Algeria|      United States|     4|\n",
      "|Turks and Caicos ...|      United States|   230|\n",
      "|       United States|          Gibraltar|     1|\n",
      "+--------------------+-------------------+------+\n",
      "only showing top 20 rows\n",
      "\n"
     ]
    }
   ],
   "source": [
    "df_csv = df_csv.withColumnRenamed('count', 'cuenta')\n",
    "df_csv.show()"
   ]
  },
  {
   "cell_type": "code",
   "execution_count": 120,
   "metadata": {},
   "outputs": [
    {
     "name": "stdout",
     "output_type": "stream",
     "text": [
      "+--------------------+------+\n",
      "|   DEST_COUNTRY_NAME|cuenta|\n",
      "+--------------------+------+\n",
      "|       United States|    15|\n",
      "|       United States|     1|\n",
      "|       United States|   344|\n",
      "|               Egypt|    15|\n",
      "|       United States|    62|\n",
      "|       United States|     1|\n",
      "|       United States|    62|\n",
      "|          Costa Rica|   588|\n",
      "|             Senegal|    40|\n",
      "|             Moldova|     1|\n",
      "|       United States|   325|\n",
      "|       United States|    39|\n",
      "|              Guyana|    64|\n",
      "|               Malta|     1|\n",
      "|            Anguilla|    41|\n",
      "|             Bolivia|    30|\n",
      "|       United States|     6|\n",
      "|             Algeria|     4|\n",
      "|Turks and Caicos ...|   230|\n",
      "|       United States|     1|\n",
      "+--------------------+------+\n",
      "only showing top 20 rows\n",
      "\n"
     ]
    }
   ],
   "source": [
    "df_csv = df_csv.drop(\"ORIGIN_COUNTRY_NAME\", \"count\")\n",
    "df_csv.show()"
   ]
  }
 ],
 "metadata": {
  "kernelspec": {
   "display_name": "Python 3",
   "language": "python",
   "name": "python3"
  },
  "language_info": {
   "codemirror_mode": {
    "name": "ipython",
    "version": 3
   },
   "file_extension": ".py",
   "mimetype": "text/x-python",
   "name": "python",
   "nbconvert_exporter": "python",
   "pygments_lexer": "ipython3",
   "version": "3.5.2"
  }
 },
 "nbformat": 4,
 "nbformat_minor": 2
}
